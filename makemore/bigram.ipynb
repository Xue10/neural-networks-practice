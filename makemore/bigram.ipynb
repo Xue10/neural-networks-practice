{
 "cells": [
  {
   "cell_type": "code",
   "execution_count": 209,
   "metadata": {},
   "outputs": [],
   "source": [
    "with open('names.txt') as f:\n",
    "    words = f.read().splitlines()"
   ]
  },
  {
   "cell_type": "code",
   "execution_count": 210,
   "metadata": {},
   "outputs": [
    {
     "name": "stdout",
     "output_type": "stream",
     "text": [
      "['emma', 'olivia', 'ava']\n"
     ]
    }
   ],
   "source": [
    "print(words[:3])"
   ]
  },
  {
   "cell_type": "code",
   "execution_count": 211,
   "metadata": {},
   "outputs": [
    {
     "name": "stdout",
     "output_type": "stream",
     "text": [
      "['a', 'b', 'c', 'd', 'e', 'f', 'g', 'h', 'i', 'j', 'k', 'l', 'm', 'n', 'o', 'p', 'q', 'r', 's', 't', 'u', 'v', 'w', 'x', 'y', 'z']\n"
     ]
    }
   ],
   "source": [
    "vocab = sorted(list(set(''.join(words))))\n",
    "print(vocab)"
   ]
  },
  {
   "cell_type": "code",
   "execution_count": 212,
   "metadata": {},
   "outputs": [],
   "source": [
    "stoi = {s: i+1 for i, s in enumerate(vocab)}"
   ]
  },
  {
   "cell_type": "code",
   "execution_count": 213,
   "metadata": {},
   "outputs": [
    {
     "name": "stdout",
     "output_type": "stream",
     "text": [
      "{'a': 1, 'b': 2, 'c': 3, 'd': 4, 'e': 5, 'f': 6, 'g': 7, 'h': 8, 'i': 9, 'j': 10, 'k': 11, 'l': 12, 'm': 13, 'n': 14, 'o': 15, 'p': 16, 'q': 17, 'r': 18, 's': 19, 't': 20, 'u': 21, 'v': 22, 'w': 23, 'x': 24, 'y': 25, 'z': 26}\n"
     ]
    }
   ],
   "source": [
    "print(stoi)"
   ]
  },
  {
   "cell_type": "code",
   "execution_count": 214,
   "metadata": {},
   "outputs": [],
   "source": [
    "stoi['.'] = 0"
   ]
  },
  {
   "cell_type": "code",
   "execution_count": 215,
   "metadata": {},
   "outputs": [],
   "source": [
    "itos = {i+1: s for i, s in enumerate(vocab)}"
   ]
  },
  {
   "cell_type": "code",
   "execution_count": 216,
   "metadata": {},
   "outputs": [],
   "source": [
    "itos[0] = '.'"
   ]
  },
  {
   "cell_type": "code",
   "execution_count": 217,
   "metadata": {},
   "outputs": [],
   "source": [
    "data = []\n",
    "for word in words:\n",
    "    word = '.' + word + '.'\n",
    "    for c1, c2 in zip(word, word[1:]):\n",
    "        \n",
    "        data.append((c1, c2))"
   ]
  },
  {
   "cell_type": "code",
   "execution_count": 218,
   "metadata": {},
   "outputs": [
    {
     "name": "stdout",
     "output_type": "stream",
     "text": [
      "[('.', 'e'), ('e', 'm'), ('m', 'm'), ('m', 'a'), ('a', '.')]\n"
     ]
    }
   ],
   "source": [
    "print(data[:5])"
   ]
  },
  {
   "cell_type": "code",
   "execution_count": 219,
   "metadata": {},
   "outputs": [
    {
     "name": "stdout",
     "output_type": "stream",
     "text": [
      "{('.', 'e'): 1531, ('e', 'm'): 769, ('m', 'm'): 168, ('m', 'a'): 2590, ('a', '.'): 6640, ('.', 'o'): 394, ('o', 'l'): 619, ('l', 'i'): 2480, ('i', 'v'): 269, ('v', 'i'): 911, ('i', 'a'): 2445, ('.', 'a'): 4410, ('a', 'v'): 834, ('v', 'a'): 642, ('.', 'i'): 591, ('i', 's'): 1316, ('s', 'a'): 1201, ('a', 'b'): 541, ('b', 'e'): 655, ('e', 'l'): 3248, ('l', 'l'): 1345, ('l', 'a'): 2623, ('.', 's'): 2055, ('s', 'o'): 531, ('o', 'p'): 95, ('p', 'h'): 204, ('h', 'i'): 729, ('.', 'c'): 1542, ('c', 'h'): 664, ('h', 'a'): 2244, ('a', 'r'): 3264, ('r', 'l'): 413, ('l', 'o'): 692, ('o', 't'): 118, ('t', 't'): 374, ('t', 'e'): 716, ('e', '.'): 3983, ('.', 'm'): 2538, ('m', 'i'): 1256, ('a', 'm'): 1634, ('m', 'e'): 818, ('.', 'h'): 874, ('r', 'p'): 14, ('p', 'e'): 197, ('e', 'r'): 1958, ('r', '.'): 1377, ('e', 'v'): 463, ('v', 'e'): 568, ('l', 'y'): 1588, ('y', 'n'): 1826, ('n', '.'): 6763, ('b', 'i'): 217, ('i', 'g'): 428, ('g', 'a'): 330, ('a', 'i'): 1650, ('i', 'l'): 1345, ('l', '.'): 1314, ('y', '.'): 2007, ('i', 'z'): 277, ('z', 'a'): 860, ('e', 't'): 580, ('t', 'h'): 647, ('h', '.'): 2409, ('r', 'y'): 773, ('o', 'f'): 34, ('f', 'i'): 160, ('c', 'a'): 815, ('r', 'i'): 3033, ('s', 'c'): 60, ('l', 'e'): 2921, ('t', '.'): 483, ('.', 'v'): 376, ('i', 'c'): 509, ('c', 't'): 35, ('t', 'o'): 667, ('o', 'r'): 1059, ('a', 'd'): 1042, ('d', 'i'): 674, ('o', 'n'): 2411, ('.', 'l'): 1572, ('l', 'u'): 324, ('u', 'n'): 275, ('n', 'a'): 2977, ('.', 'g'): 669, ('g', 'r'): 201, ('r', 'a'): 2356, ('a', 'c'): 470, ('c', 'e'): 551, ('h', 'l'): 185, ('o', 'e'): 132, ('.', 'p'): 515, ('e', 'n'): 2675, ('n', 'e'): 1359, ('a', 'y'): 2050, ('y', 'l'): 1104, ('.', 'r'): 1639, ('e', 'y'): 1070, ('.', 'z'): 929, ('z', 'o'): 110, ('.', 'n'): 1146, ('n', 'o'): 496, ('e', 'a'): 679, ('a', 'n'): 5438, ('n', 'n'): 1906, ('a', 'h'): 2332, ('d', 'd'): 149, ('a', 'u'): 381, ('u', 'b'): 103, ('b', 'r'): 842, ('r', 'e'): 1697, ('i', 'e'): 1653, ('s', 't'): 765, ('a', 't'): 687, ('t', 'a'): 1027, ('a', 'l'): 2528, ('a', 'z'): 435, ('z', 'e'): 373, ('i', 'o'): 588, ('u', 'r'): 414, ('r', 'o'): 869, ('u', 'd'): 136, ('d', 'r'): 424, ('.', 'b'): 1306, ('o', 'o'): 115, ('o', 'k'): 68, ('k', 'l'): 139, ('c', 'l'): 116, ('i', 'r'): 849, ('s', 'k'): 82, ('k', 'y'): 379, ('u', 'c'): 103, ('c', 'y'): 104, ('p', 'a'): 209, ('s', 'l'): 279, ('i', 'n'): 2126, ('o', 'v'): 176, ('g', 'e'): 334, ('e', 's'): 861, ('s', 'i'): 684, ('s', '.'): 1169, ('.', 'k'): 2963, ('k', 'e'): 895, ('e', 'd'): 384, ('d', 'y'): 317, ('n', 't'): 443, ('y', 'a'): 2143, ('.', 'w'): 307, ('w', 'i'): 148, ('o', 'w'): 114, ('w', '.'): 51, ('k', 'i'): 509, ('n', 's'): 278, ('a', 'o'): 63, ('o', 'm'): 261, ('i', '.'): 2489, ('a', 'a'): 556, ('i', 'y'): 779, ('d', 'e'): 1283, ('c', 'o'): 380, ('r', 'u'): 252, ('b', 'y'): 83, ('s', 'e'): 884, ('n', 'i'): 1725, ('i', 't'): 541, ('t', 'y'): 341, ('u', 't'): 82, ('t', 'u'): 78, ('u', 'm'): 154, ('m', 'n'): 20, ('g', 'i'): 190, ('t', 'i'): 532, ('.', 'q'): 92, ('q', 'u'): 206, ('u', 'i'): 121, ('a', 'e'): 692, ('e', 'h'): 152, ('v', 'y'): 121, ('p', 'i'): 61, ('i', 'p'): 53, ('y', 'd'): 272, ('e', 'x'): 132, ('x', 'a'): 103, ('.', 'j'): 2422, ('j', 'o'): 479, ('o', 's'): 504, ('e', 'p'): 83, ('j', 'u'): 202, ('u', 'l'): 301, ('.', 'd'): 1690, ('k', 'a'): 1731, ('e', 'e'): 1271, ('y', 't'): 104, ('d', 'l'): 60, ('c', 'k'): 316, ('n', 'z'): 145, ('z', 'i'): 364, ('a', 'g'): 168, ('d', 'a'): 1303, ('j', 'a'): 1473, ('h', 'e'): 674, ('.', 'x'): 134, ('x', 'i'): 102, ('i', 'm'): 427, ('e', 'i'): 818, ('.', 't'): 1308, ('.', 'f'): 417, ('f', 'a'): 242, ('n', 'd'): 704, ('r', 'g'): 76, ('a', 's'): 1118, ('s', 'h'): 1285, ('b', 'a'): 321, ('k', 'h'): 307, ('s', 'm'): 90, ('o', 'd'): 190, ('r', 's'): 190, ('g', 'h'): 360, ('s', 'y'): 215, ('y', 's'): 401, ('s', 's'): 461, ('e', 'c'): 153, ('c', 'i'): 271, ('m', 'o'): 452, ('r', 'k'): 90, ('n', 'l'): 195, ('d', 'n'): 31, ('r', 'd'): 187, ('o', 'i'): 69, ('t', 'r'): 352, ('m', 'b'): 112, ('r', 'm'): 162, ('n', 'y'): 465, ('d', 'o'): 378, ('o', 'a'): 149, ('o', 'c'): 114, ('m', 'y'): 287, ('s', 'u'): 185, ('m', 'c'): 51, ('p', 'r'): 151, ('o', 'u'): 275, ('r', 'n'): 140, ('w', 'a'): 280, ('e', 'b'): 121, ('c', 'c'): 42, ('a', 'w'): 161, ('w', 'y'): 73, ('y', 'e'): 301, ('e', 'o'): 269, ('a', 'k'): 568, ('n', 'g'): 273, ('k', 'o'): 344, ('b', 'l'): 103, ('h', 'o'): 287, ('e', 'g'): 125, ('f', 'r'): 114, ('s', 'p'): 51, ('l', 's'): 94, ('y', 'z'): 78, ('g', 'g'): 25, ('z', 'u'): 73, ('i', 'd'): 440, ('m', '.'): 516, ('o', 'g'): 44, ('j', 'e'): 440, ('g', 'n'): 27, ('y', 'r'): 291, ('c', '.'): 97, ('c', 'q'): 11, ('u', 'e'): 169, ('i', 'f'): 101, ('f', 'e'): 123, ('i', 'x'): 89, ('x', '.'): 164, ('o', 'y'): 103, ('g', 'o'): 83, ('g', 't'): 31, ('l', 't'): 77, ('g', 'w'): 26, ('w', 'e'): 149, ('l', 'd'): 138, ('a', 'p'): 82, ('h', 'n'): 138, ('t', 'l'): 134, ('m', 'r'): 97, ('n', 'c'): 213, ('l', 'b'): 52, ('i', 'k'): 445, ('.', 'y'): 535, ('t', 'z'): 105, ('h', 'r'): 204, ('j', 'i'): 119, ('h', 't'): 71, ('r', 'r'): 425, ('z', 'l'): 123, ('w', 'r'): 22, ('b', 'b'): 38, ('r', 't'): 208, ('l', 'v'): 72, ('e', 'j'): 55, ('o', 'h'): 171, ('u', 's'): 474, ('i', 'b'): 110, ('g', 'l'): 32, ('h', 'y'): 213, ('p', 'o'): 59, ('p', 'p'): 39, ('p', 'y'): 12, ('n', 'r'): 44, ('z', 'm'): 35, ('v', 'o'): 153, ('l', 'm'): 60, ('o', 'x'): 45, ('d', '.'): 516, ('i', 'u'): 109, ('v', '.'): 88, ('f', 'f'): 44, ('b', 'o'): 105, ('e', 'k'): 178, ('c', 'r'): 76, ('d', 'g'): 25, ('r', 'c'): 99, ('r', 'h'): 121, ('n', 'k'): 58, ('h', 'u'): 166, ('d', 's'): 29, ('a', 'x'): 182, ('y', 'c'): 115, ('e', 'w'): 50, ('v', 'k'): 3, ('z', 'h'): 43, ('w', 'h'): 23, ('t', 'n'): 22, ('x', 'l'): 39, ('g', 'u'): 85, ('u', 'a'): 163, ('u', 'p'): 16, ('u', 'g'): 47, ('d', 'u'): 92, ('l', 'c'): 25, ('r', 'b'): 41, ('a', 'q'): 60, ('b', '.'): 114, ('g', 'y'): 31, ('y', 'p'): 15, ('p', 't'): 17, ('e', 'z'): 181, ('z', 'r'): 32, ('f', 'l'): 20, ('o', '.'): 855, ('o', 'b'): 140, ('u', 'z'): 45, ('z', '.'): 160, ('i', 'q'): 52, ('y', 'v'): 106, ('n', 'v'): 55, ('d', 'h'): 118, ('g', 'd'): 19, ('t', 's'): 35, ('n', 'h'): 26, ('y', 'j'): 23, ('k', 'r'): 109, ('z', 'b'): 4, ('g', '.'): 108, ('a', 'j'): 175, ('r', 'j'): 25, ('m', 'p'): 38, ('p', 'b'): 2, ('y', 'o'): 271, ('z', 'y'): 147, ('p', 'l'): 16, ('l', 'k'): 24, ('i', 'j'): 76, ('x', 'e'): 36, ('y', 'u'): 141, ('l', 'n'): 14, ('u', 'x'): 34, ('i', 'h'): 95, ('w', 's'): 20, ('k', 's'): 95, ('m', 'u'): 139, ('y', 'k'): 86, ('e', 'f'): 82, ('k', '.'): 363, ('y', 'm'): 148, ('z', 'z'): 45, ('m', 'd'): 24, ('s', 'r'): 55, ('e', 'u'): 69, ('l', 'h'): 19, ('a', 'f'): 134, ('r', 'w'): 21, ('n', 'u'): 96, ('v', 'r'): 48, ('m', 's'): 35, ('.', 'u'): 78, ('f', 's'): 6, ('y', 'b'): 27, ('x', 'o'): 41, ('g', 's'): 30, ('x', 'y'): 30, ('w', 'n'): 58, ('j', 'h'): 45, ('f', 'n'): 4, ('n', 'j'): 44, ('r', 'v'): 80, ('n', 'm'): 19, ('t', 'c'): 17, ('s', 'w'): 24, ('k', 't'): 17, ('f', 't'): 18, ('x', 't'): 70, ('u', 'v'): 37, ('k', 'k'): 20, ('s', 'n'): 24, ('u', '.'): 155, ('j', 'r'): 11, ('y', 'x'): 28, ('h', 'm'): 117, ('e', 'q'): 14, ('u', 'o'): 10, ('f', '.'): 80, ('h', 'z'): 20, ('h', 'k'): 29, ('y', 'g'): 30, ('q', 'r'): 1, ('v', 'n'): 8, ('s', 'd'): 9, ('y', 'i'): 192, ('n', 'w'): 11, ('d', 'v'): 17, ('h', 'v'): 39, ('x', 'w'): 3, ('o', 'z'): 54, ('k', 'u'): 50, ('u', 'h'): 58, ('k', 'n'): 26, ('s', 'b'): 21, ('i', 'i'): 82, ('y', 'y'): 23, ('r', 'z'): 23, ('l', 'g'): 6, ('l', 'p'): 15, ('p', '.'): 33, ('b', 'u'): 45, ('f', 'u'): 10, ('b', 'h'): 41, ('f', 'y'): 14, ('u', 'w'): 86, ('x', 'u'): 5, ('q', '.'): 28, ('l', 'r'): 18, ('m', 'h'): 5, ('l', 'w'): 16, ('j', '.'): 71, ('s', 'v'): 14, ('m', 'l'): 5, ('n', 'f'): 11, ('u', 'j'): 14, ('f', 'o'): 60, ('j', 'l'): 9, ('t', 'g'): 2, ('j', 'm'): 5, ('v', 'v'): 7, ('p', 's'): 16, ('t', 'w'): 11, ('x', 'c'): 4, ('u', 'k'): 93, ('v', 'l'): 14, ('h', 'd'): 24, ('l', 'z'): 10, ('k', 'w'): 34, ('n', 'b'): 8, ('q', 's'): 2, ('i', 'w'): 8, ('c', 's'): 5, ('h', 's'): 31, ('m', 't'): 4, ('h', 'w'): 10, ('x', 'x'): 38, ('t', 'x'): 2, ('d', 'z'): 1, ('x', 'z'): 19, ('t', 'm'): 4, ('t', 'j'): 3, ('u', 'q'): 10, ('q', 'a'): 13, ('f', 'k'): 2, ('z', 'n'): 4, ('l', 'j'): 6, ('j', 'w'): 6, ('v', 'u'): 7, ('c', 'j'): 3, ('h', 'b'): 8, ('z', 't'): 4, ('p', 'u'): 4, ('m', 'z'): 11, ('x', 's'): 31, ('b', 't'): 2, ('u', 'y'): 13, ('d', 'j'): 9, ('j', 's'): 7, ('w', 'u'): 25, ('o', 'j'): 16, ('b', 's'): 8, ('d', 'w'): 23, ('w', 'o'): 36, ('j', 'n'): 2, ('w', 't'): 8, ('l', 'f'): 22, ('d', 'm'): 30, ('p', 'j'): 1, ('j', 'y'): 10, ('y', 'f'): 12, ('q', 'i'): 13, ('j', 'v'): 5, ('q', 'l'): 1, ('s', 'z'): 10, ('k', 'm'): 9, ('w', 'l'): 13, ('p', 'f'): 1, ('q', 'w'): 3, ('n', 'x'): 6, ('k', 'c'): 2, ('t', 'v'): 15, ('c', 'u'): 35, ('z', 'k'): 2, ('c', 'z'): 4, ('y', 'q'): 6, ('y', 'h'): 22, ('r', 'f'): 9, ('s', 'j'): 2, ('h', 'j'): 9, ('g', 'b'): 3, ('u', 'f'): 19, ('s', 'f'): 2, ('q', 'e'): 1, ('b', 'c'): 1, ('c', 'd'): 1, ('z', 'j'): 2, ('n', 'q'): 2, ('m', 'f'): 1, ('p', 'n'): 1, ('f', 'z'): 2, ('b', 'n'): 4, ('w', 'd'): 8, ('w', 'b'): 1, ('b', 'd'): 65, ('z', 's'): 4, ('p', 'c'): 1, ('h', 'g'): 2, ('m', 'j'): 7, ('w', 'w'): 2, ('k', 'j'): 2, ('h', 'p'): 1, ('j', 'k'): 2, ('o', 'q'): 3, ('f', 'w'): 4, ('f', 'h'): 1, ('w', 'm'): 2, ('b', 'j'): 1, ('r', 'q'): 16, ('z', 'c'): 2, ('z', 'v'): 2, ('f', 'g'): 1, ('n', 'p'): 5, ('z', 'g'): 1, ('d', 't'): 4, ('w', 'f'): 2, ('d', 'f'): 5, ('w', 'k'): 6, ('q', 'm'): 2, ('k', 'z'): 2, ('j', 'j'): 2, ('c', 'p'): 1, ('p', 'k'): 1, ('p', 'm'): 1, ('j', 'd'): 4, ('r', 'x'): 3, ('x', 'n'): 1, ('d', 'c'): 3, ('g', 'j'): 3, ('x', 'f'): 3, ('j', 'c'): 4, ('s', 'q'): 1, ('k', 'f'): 1, ('z', 'p'): 2, ('j', 't'): 2, ('k', 'b'): 2, ('m', 'k'): 1, ('m', 'w'): 2, ('x', 'h'): 1, ('h', 'f'): 2, ('x', 'd'): 5, ('y', 'w'): 4, ('z', 'w'): 3, ('d', 'k'): 3, ('c', 'g'): 2, ('u', 'u'): 3, ('t', 'f'): 2, ('g', 'm'): 6, ('m', 'v'): 3, ('c', 'x'): 3, ('h', 'c'): 2, ('g', 'f'): 1, ('q', 'o'): 2, ('l', 'q'): 3, ('v', 'b'): 1, ('j', 'p'): 1, ('k', 'd'): 2, ('g', 'z'): 1, ('v', 'd'): 1, ('d', 'b'): 1, ('v', 'h'): 1, ('k', 'v'): 2, ('h', 'h'): 1, ('s', 'g'): 2, ('g', 'v'): 1, ('d', 'q'): 1, ('x', 'b'): 1, ('w', 'z'): 1, ('h', 'q'): 1, ('j', 'b'): 1, ('z', 'd'): 2, ('x', 'm'): 1, ('w', 'g'): 1, ('t', 'b'): 1, ('z', 'x'): 1}\n"
     ]
    }
   ],
   "source": [
    "freq = {}\n",
    "for k in data:\n",
    "    freq[k] = freq.get(k, 0) + 1\n",
    "print(freq)"
   ]
  },
  {
   "cell_type": "code",
   "execution_count": 220,
   "metadata": {},
   "outputs": [
    {
     "name": "stdout",
     "output_type": "stream",
     "text": [
      "{(0, 5): 1531, (5, 13): 769, (13, 13): 168, (13, 1): 2590, (1, 0): 6640, (0, 15): 394, (15, 12): 619, (12, 9): 2480, (9, 22): 269, (22, 9): 911, (9, 1): 2445, (0, 1): 4410, (1, 22): 834, (22, 1): 642, (0, 9): 591, (9, 19): 1316, (19, 1): 1201, (1, 2): 541, (2, 5): 655, (5, 12): 3248, (12, 12): 1345, (12, 1): 2623, (0, 19): 2055, (19, 15): 531, (15, 16): 95, (16, 8): 204, (8, 9): 729, (0, 3): 1542, (3, 8): 664, (8, 1): 2244, (1, 18): 3264, (18, 12): 413, (12, 15): 692, (15, 20): 118, (20, 20): 374, (20, 5): 716, (5, 0): 3983, (0, 13): 2538, (13, 9): 1256, (1, 13): 1634, (13, 5): 818, (0, 8): 874, (18, 16): 14, (16, 5): 197, (5, 18): 1958, (18, 0): 1377, (5, 22): 463, (22, 5): 568, (12, 25): 1588, (25, 14): 1826, (14, 0): 6763, (2, 9): 217, (9, 7): 428, (7, 1): 330, (1, 9): 1650, (9, 12): 1345, (12, 0): 1314, (25, 0): 2007, (9, 26): 277, (26, 1): 860, (5, 20): 580, (20, 8): 647, (8, 0): 2409, (18, 25): 773, (15, 6): 34, (6, 9): 160, (3, 1): 815, (18, 9): 3033, (19, 3): 60, (12, 5): 2921, (20, 0): 483, (0, 22): 376, (9, 3): 509, (3, 20): 35, (20, 15): 667, (15, 18): 1059, (1, 4): 1042, (4, 9): 674, (15, 14): 2411, (0, 12): 1572, (12, 21): 324, (21, 14): 275, (14, 1): 2977, (0, 7): 669, (7, 18): 201, (18, 1): 2356, (1, 3): 470, (3, 5): 551, (8, 12): 185, (15, 5): 132, (0, 16): 515, (5, 14): 2675, (14, 5): 1359, (1, 25): 2050, (25, 12): 1104, (0, 18): 1639, (5, 25): 1070, (0, 26): 929, (26, 15): 110, (0, 14): 1146, (14, 15): 496, (5, 1): 679, (1, 14): 5438, (14, 14): 1906, (1, 8): 2332, (4, 4): 149, (1, 21): 381, (21, 2): 103, (2, 18): 842, (18, 5): 1697, (9, 5): 1653, (19, 20): 765, (1, 20): 687, (20, 1): 1027, (1, 12): 2528, (1, 26): 435, (26, 5): 373, (9, 15): 588, (21, 18): 414, (18, 15): 869, (21, 4): 136, (4, 18): 424, (0, 2): 1306, (15, 15): 115, (15, 11): 68, (11, 12): 139, (3, 12): 116, (9, 18): 849, (19, 11): 82, (11, 25): 379, (21, 3): 103, (3, 25): 104, (16, 1): 209, (19, 12): 279, (9, 14): 2126, (15, 22): 176, (7, 5): 334, (5, 19): 861, (19, 9): 684, (19, 0): 1169, (0, 11): 2963, (11, 5): 895, (5, 4): 384, (4, 25): 317, (14, 20): 443, (25, 1): 2143, (0, 23): 307, (23, 9): 148, (15, 23): 114, (23, 0): 51, (11, 9): 509, (14, 19): 278, (1, 15): 63, (15, 13): 261, (9, 0): 2489, (1, 1): 556, (9, 25): 779, (4, 5): 1283, (3, 15): 380, (18, 21): 252, (2, 25): 83, (19, 5): 884, (14, 9): 1725, (9, 20): 541, (20, 25): 341, (21, 20): 82, (20, 21): 78, (21, 13): 154, (13, 14): 20, (7, 9): 190, (20, 9): 532, (0, 17): 92, (17, 21): 206, (21, 9): 121, (1, 5): 692, (5, 8): 152, (22, 25): 121, (16, 9): 61, (9, 16): 53, (25, 4): 272, (5, 24): 132, (24, 1): 103, (0, 10): 2422, (10, 15): 479, (15, 19): 504, (5, 16): 83, (10, 21): 202, (21, 12): 301, (0, 4): 1690, (11, 1): 1731, (5, 5): 1271, (25, 20): 104, (4, 12): 60, (3, 11): 316, (14, 26): 145, (26, 9): 364, (1, 7): 168, (4, 1): 1303, (10, 1): 1473, (8, 5): 674, (0, 24): 134, (24, 9): 102, (9, 13): 427, (5, 9): 818, (0, 20): 1308, (0, 6): 417, (6, 1): 242, (14, 4): 704, (18, 7): 76, (1, 19): 1118, (19, 8): 1285, (2, 1): 321, (11, 8): 307, (19, 13): 90, (15, 4): 190, (18, 19): 190, (7, 8): 360, (19, 25): 215, (25, 19): 401, (19, 19): 461, (5, 3): 153, (3, 9): 271, (13, 15): 452, (18, 11): 90, (14, 12): 195, (4, 14): 31, (18, 4): 187, (15, 9): 69, (20, 18): 352, (13, 2): 112, (18, 13): 162, (14, 25): 465, (4, 15): 378, (15, 1): 149, (15, 3): 114, (13, 25): 287, (19, 21): 185, (13, 3): 51, (16, 18): 151, (15, 21): 275, (18, 14): 140, (23, 1): 280, (5, 2): 121, (3, 3): 42, (1, 23): 161, (23, 25): 73, (25, 5): 301, (5, 15): 269, (1, 11): 568, (14, 7): 273, (11, 15): 344, (2, 12): 103, (8, 15): 287, (5, 7): 125, (6, 18): 114, (19, 16): 51, (12, 19): 94, (25, 26): 78, (7, 7): 25, (26, 21): 73, (9, 4): 440, (13, 0): 516, (15, 7): 44, (10, 5): 440, (7, 14): 27, (25, 18): 291, (3, 0): 97, (3, 17): 11, (21, 5): 169, (9, 6): 101, (6, 5): 123, (9, 24): 89, (24, 0): 164, (15, 25): 103, (7, 15): 83, (7, 20): 31, (12, 20): 77, (7, 23): 26, (23, 5): 149, (12, 4): 138, (1, 16): 82, (8, 14): 138, (20, 12): 134, (13, 18): 97, (14, 3): 213, (12, 2): 52, (9, 11): 445, (0, 25): 535, (20, 26): 105, (8, 18): 204, (10, 9): 119, (8, 20): 71, (18, 18): 425, (26, 12): 123, (23, 18): 22, (2, 2): 38, (18, 20): 208, (12, 22): 72, (5, 10): 55, (15, 8): 171, (21, 19): 474, (9, 2): 110, (7, 12): 32, (8, 25): 213, (16, 15): 59, (16, 16): 39, (16, 25): 12, (14, 18): 44, (26, 13): 35, (22, 15): 153, (12, 13): 60, (15, 24): 45, (4, 0): 516, (9, 21): 109, (22, 0): 88, (6, 6): 44, (2, 15): 105, (5, 11): 178, (3, 18): 76, (4, 7): 25, (18, 3): 99, (18, 8): 121, (14, 11): 58, (8, 21): 166, (4, 19): 29, (1, 24): 182, (25, 3): 115, (5, 23): 50, (22, 11): 3, (26, 8): 43, (23, 8): 23, (20, 14): 22, (24, 12): 39, (7, 21): 85, (21, 1): 163, (21, 16): 16, (21, 7): 47, (4, 21): 92, (12, 3): 25, (18, 2): 41, (1, 17): 60, (2, 0): 114, (7, 25): 31, (25, 16): 15, (16, 20): 17, (5, 26): 181, (26, 18): 32, (6, 12): 20, (15, 0): 855, (15, 2): 140, (21, 26): 45, (26, 0): 160, (9, 17): 52, (25, 22): 106, (14, 22): 55, (4, 8): 118, (7, 4): 19, (20, 19): 35, (14, 8): 26, (25, 10): 23, (11, 18): 109, (26, 2): 4, (7, 0): 108, (1, 10): 175, (18, 10): 25, (13, 16): 38, (16, 2): 2, (25, 15): 271, (26, 25): 147, (16, 12): 16, (12, 11): 24, (9, 10): 76, (24, 5): 36, (25, 21): 141, (12, 14): 14, (21, 24): 34, (9, 8): 95, (23, 19): 20, (11, 19): 95, (13, 21): 139, (25, 11): 86, (5, 6): 82, (11, 0): 363, (25, 13): 148, (26, 26): 45, (13, 4): 24, (19, 18): 55, (5, 21): 69, (12, 8): 19, (1, 6): 134, (18, 23): 21, (14, 21): 96, (22, 18): 48, (13, 19): 35, (0, 21): 78, (6, 19): 6, (25, 2): 27, (24, 15): 41, (7, 19): 30, (24, 25): 30, (23, 14): 58, (10, 8): 45, (6, 14): 4, (14, 10): 44, (18, 22): 80, (14, 13): 19, (20, 3): 17, (19, 23): 24, (11, 20): 17, (6, 20): 18, (24, 20): 70, (21, 22): 37, (11, 11): 20, (19, 14): 24, (21, 0): 155, (10, 18): 11, (25, 24): 28, (8, 13): 117, (5, 17): 14, (21, 15): 10, (6, 0): 80, (8, 26): 20, (8, 11): 29, (25, 7): 30, (17, 18): 1, (22, 14): 8, (19, 4): 9, (25, 9): 192, (14, 23): 11, (4, 22): 17, (8, 22): 39, (24, 23): 3, (15, 26): 54, (11, 21): 50, (21, 8): 58, (11, 14): 26, (19, 2): 21, (9, 9): 82, (25, 25): 23, (18, 26): 23, (12, 7): 6, (12, 16): 15, (16, 0): 33, (2, 21): 45, (6, 21): 10, (2, 8): 41, (6, 25): 14, (21, 23): 86, (24, 21): 5, (17, 0): 28, (12, 18): 18, (13, 8): 5, (12, 23): 16, (10, 0): 71, (19, 22): 14, (13, 12): 5, (14, 6): 11, (21, 10): 14, (6, 15): 60, (10, 12): 9, (20, 7): 2, (10, 13): 5, (22, 22): 7, (16, 19): 16, (20, 23): 11, (24, 3): 4, (21, 11): 93, (22, 12): 14, (8, 4): 24, (12, 26): 10, (11, 23): 34, (14, 2): 8, (17, 19): 2, (9, 23): 8, (3, 19): 5, (8, 19): 31, (13, 20): 4, (8, 23): 10, (24, 24): 38, (20, 24): 2, (4, 26): 1, (24, 26): 19, (20, 13): 4, (20, 10): 3, (21, 17): 10, (17, 1): 13, (6, 11): 2, (26, 14): 4, (12, 10): 6, (10, 23): 6, (22, 21): 7, (3, 10): 3, (8, 2): 8, (26, 20): 4, (16, 21): 4, (13, 26): 11, (24, 19): 31, (2, 20): 2, (21, 25): 13, (4, 10): 9, (10, 19): 7, (23, 21): 25, (15, 10): 16, (2, 19): 8, (4, 23): 23, (23, 15): 36, (10, 14): 2, (23, 20): 8, (12, 6): 22, (4, 13): 30, (16, 10): 1, (10, 25): 10, (25, 6): 12, (17, 9): 13, (10, 22): 5, (17, 12): 1, (19, 26): 10, (11, 13): 9, (23, 12): 13, (16, 6): 1, (17, 23): 3, (14, 24): 6, (11, 3): 2, (20, 22): 15, (3, 21): 35, (26, 11): 2, (3, 26): 4, (25, 17): 6, (25, 8): 22, (18, 6): 9, (19, 10): 2, (8, 10): 9, (7, 2): 3, (21, 6): 19, (19, 6): 2, (17, 5): 1, (2, 3): 1, (3, 4): 1, (26, 10): 2, (14, 17): 2, (13, 6): 1, (16, 14): 1, (6, 26): 2, (2, 14): 4, (23, 4): 8, (23, 2): 1, (2, 4): 65, (26, 19): 4, (16, 3): 1, (8, 7): 2, (13, 10): 7, (23, 23): 2, (11, 10): 2, (8, 16): 1, (10, 11): 2, (15, 17): 3, (6, 23): 4, (6, 8): 1, (23, 13): 2, (2, 10): 1, (18, 17): 16, (26, 3): 2, (26, 22): 2, (6, 7): 1, (14, 16): 5, (26, 7): 1, (4, 20): 4, (23, 6): 2, (4, 6): 5, (23, 11): 6, (17, 13): 2, (11, 26): 2, (10, 10): 2, (3, 16): 1, (16, 11): 1, (16, 13): 1, (10, 4): 4, (18, 24): 3, (24, 14): 1, (4, 3): 3, (7, 10): 3, (24, 6): 3, (10, 3): 4, (19, 17): 1, (11, 6): 1, (26, 16): 2, (10, 20): 2, (11, 2): 2, (13, 11): 1, (13, 23): 2, (24, 8): 1, (8, 6): 2, (24, 4): 5, (25, 23): 4, (26, 23): 3, (4, 11): 3, (3, 7): 2, (21, 21): 3, (20, 6): 2, (7, 13): 6, (13, 22): 3, (3, 24): 3, (8, 3): 2, (7, 6): 1, (17, 15): 2, (12, 17): 3, (22, 2): 1, (10, 16): 1, (11, 4): 2, (7, 26): 1, (22, 4): 1, (4, 2): 1, (22, 8): 1, (11, 22): 2, (8, 8): 1, (19, 7): 2, (7, 22): 1, (4, 17): 1, (24, 2): 1, (23, 26): 1, (8, 17): 1, (10, 2): 1, (26, 4): 2, (24, 13): 1, (23, 7): 1, (20, 2): 1, (26, 24): 1}\n"
     ]
    }
   ],
   "source": [
    "freqi = {}\n",
    "for k in freq.keys():\n",
    "    freqi[(stoi[k[0]], stoi[k[1]])] = freq[k]\n",
    "print(freqi)"
   ]
  },
  {
   "cell_type": "code",
   "execution_count": 221,
   "metadata": {},
   "outputs": [],
   "source": [
    "import torch"
   ]
  },
  {
   "cell_type": "code",
   "execution_count": 222,
   "metadata": {},
   "outputs": [],
   "source": [
    "N = torch.zeros((27, 27), dtype=torch.int32)"
   ]
  },
  {
   "cell_type": "code",
   "execution_count": 223,
   "metadata": {},
   "outputs": [],
   "source": [
    "for k in data:\n",
    "    ch1 = k[0]\n",
    "    ch2 = k[1]\n",
    "    ix1 = stoi[ch1]\n",
    "    ix2 = stoi[ch2]\n",
    "    N[ix1, ix2] += 1"
   ]
  },
  {
   "cell_type": "code",
   "execution_count": 224,
   "metadata": {},
   "outputs": [
    {
     "data": {
      "text/plain": [
       "<matplotlib.image.AxesImage at 0x17ba0e6a5c0>"
      ]
     },
     "execution_count": 224,
     "metadata": {},
     "output_type": "execute_result"
    },
    {
     "data": {
      "image/png": "[encoded data removed]",
      "text/plain": [
       "<Figure size 1600x1600 with 1 Axes>"
      ]
     },
     "metadata": {},
     "output_type": "display_data"
    }
   ],
   "source": [
    "import matplotlib.pyplot as plt\n",
    "%matplotlib inline\n",
    "\n",
    "plt.figure(figsize=(16, 16))\n",
    "plt.imshow(N, cmap='Blues')"
   ]
  },
  {
   "cell_type": "code",
   "execution_count": 225,
   "metadata": {},
   "outputs": [],
   "source": [
    "N += 1"
   ]
  },
  {
   "cell_type": "code",
   "execution_count": 226,
   "metadata": {},
   "outputs": [
    {
     "name": "stdout",
     "output_type": "stream",
     "text": [
      "tensor([3.1192e-05, 1.3759e-01, 4.0767e-02, 4.8129e-02, 5.2745e-02, 4.7785e-02,\n",
      "        1.3038e-02, 2.0898e-02, 2.7293e-02, 1.8465e-02, 7.5577e-02, 9.2452e-02,\n",
      "        4.9064e-02, 7.9195e-02, 3.5777e-02, 1.2321e-02, 1.6095e-02, 2.9008e-03,\n",
      "        5.1154e-02, 6.4130e-02, 4.0830e-02, 2.4641e-03, 1.1759e-02, 9.6070e-03,\n",
      "        4.2109e-03, 1.6719e-02, 2.9008e-02])\n"
     ]
    }
   ],
   "source": [
    "prob = N / N.sum(1, keepdim=True)\n",
    "print(prob[0])"
   ]
  },
  {
   "cell_type": "code",
   "execution_count": 227,
   "metadata": {},
   "outputs": [
    {
     "name": "stdout",
     "output_type": "stream",
     "text": [
      "fjiirltolcmgsfgqgvvglgnpaxvxmilmvlajfjbyailrwimtlvsnjyicvyvaftlcffvmumtryfoltmmjrpfftslwjqrjagq.\n",
      "ijwyfvt.\n",
      "packcz.\n",
      "y.\n",
      ".\n",
      "-----\n",
      "junide.\n",
      "janasah.\n",
      "p.\n",
      "cony.\n",
      "a.\n"
     ]
    }
   ],
   "source": [
    "g = torch.Generator().manual_seed(2147483647)\n",
    "for _ in range(5):\n",
    "    r = torch.rand(27, generator=g)\n",
    "    r /= r.sum()\n",
    "    out = []\n",
    "    while True:\n",
    "        ix = torch.multinomial(r, num_samples=1, generator=g).item()\n",
    "        out.append(itos[ix])\n",
    "        \n",
    "        if ix == 0:\n",
    "            break\n",
    "    print(''.join(out))\n",
    "print(\"-----\")\n",
    "g = torch.Generator().manual_seed(2147483647)\n",
    "for _ in range(5):\n",
    "    out = []\n",
    "    ix = 0\n",
    "    while True:\n",
    "        P = prob[ix]\n",
    "        ix = torch.multinomial(P, num_samples=1, replacement=True, generator=g).item()\n",
    "        out.append(itos[ix])\n",
    "      \n",
    "        if ix == 0:\n",
    "            break\n",
    "    print(''.join(out))"
   ]
  },
  {
   "cell_type": "code",
   "execution_count": 228,
   "metadata": {},
   "outputs": [
    {
     "name": "stdout",
     "output_type": "stream",
     "text": [
      "tensor(2.4544)\n"
     ]
    }
   ],
   "source": [
    "nll = 0\n",
    "count = 0\n",
    "for word in words:\n",
    "    word = '.' + word + '.'\n",
    "    for ch1, ch2 in zip(word, word[1:]):\n",
    "        count += 1\n",
    "        ix1 = stoi[ch1]\n",
    "        ix2 = stoi[ch2]\n",
    "        p = prob[ix1, ix2]\n",
    "        nll += -torch.log(p)\n",
    "nll /= count\n",
    "print(nll)"
   ]
  },
  {
   "cell_type": "code",
   "execution_count": 229,
   "metadata": {},
   "outputs": [],
   "source": [
    "import torch.nn.functional as F"
   ]
  },
  {
   "cell_type": "code",
   "execution_count": 230,
   "metadata": {},
   "outputs": [
    {
     "name": "stdout",
     "output_type": "stream",
     "text": [
      "228146\n"
     ]
    }
   ],
   "source": [
    "xs, ys = [], []\n",
    "for word in words:\n",
    "    chs = ['.'] + list(word) + ['.']\n",
    "    for ch1, ch2 in zip(chs, chs[1:]):\n",
    "        ix1 = stoi[ch1]\n",
    "        ix2 = stoi[ch2]\n",
    "        xs.append(ix1)\n",
    "        ys.append(ix2)\n",
    "xs = torch.tensor(xs)\n",
    "ys = torch.tensor(ys)\n",
    "\n",
    "num = xs.nelement()\n",
    "print(num)\n",
    "\n",
    "g = torch.Generator().manual_seed(2147483647)\n",
    "W = torch.randn((27, 27), generator=g, requires_grad=True)"
   ]
  },
  {
   "cell_type": "code",
   "execution_count": 231,
   "metadata": {},
   "outputs": [
    {
     "name": "stdout",
     "output_type": "stream",
     "text": [
      "3.7686190605163574\n",
      "3.378786325454712\n",
      "3.1610782146453857\n",
      "3.027181386947632\n",
      "2.9344804286956787\n",
      "2.8672285079956055\n",
      "2.816652774810791\n",
      "2.7771458625793457\n",
      "2.745253562927246\n",
      "2.7188308238983154\n",
      "2.696505546569824\n",
      "2.677372694015503\n",
      "2.6608054637908936\n",
      "2.6463515758514404\n",
      "2.6336653232574463\n",
      "2.622471570968628\n",
      "2.6125476360321045\n",
      "2.6037065982818604\n",
      "2.595794439315796\n",
      "2.5886807441711426\n",
      "2.5822560787200928\n",
      "2.5764293670654297\n",
      "2.5711233615875244\n",
      "2.566272735595703\n",
      "2.5618226528167725\n",
      "2.5577261447906494\n",
      "2.5539441108703613\n",
      "2.550442695617676\n",
      "2.547192335128784\n",
      "2.5441696643829346\n",
      "2.5413522720336914\n",
      "2.538721799850464\n",
      "2.536261796951294\n",
      "2.5339581966400146\n",
      "2.5317976474761963\n",
      "2.5297679901123047\n",
      "2.527860164642334\n",
      "2.526063919067383\n",
      "2.5243704319000244\n",
      "2.522773027420044\n",
      "2.52126407623291\n",
      "2.519836664199829\n",
      "2.5184857845306396\n",
      "2.5172054767608643\n",
      "2.515990972518921\n",
      "2.5148372650146484\n",
      "2.5137407779693604\n",
      "2.51269793510437\n",
      "2.511705160140991\n",
      "2.5107581615448\n",
      "2.509854793548584\n",
      "2.5089921951293945\n",
      "2.5081686973571777\n",
      "2.507380485534668\n",
      "2.5066258907318115\n",
      "2.5059030055999756\n",
      "2.5052103996276855\n",
      "2.5045459270477295\n",
      "2.503908157348633\n",
      "2.5032951831817627\n",
      "2.502706289291382\n",
      "2.5021393299102783\n",
      "2.5015945434570312\n",
      "2.5010693073272705\n",
      "2.500563383102417\n",
      "2.500074863433838\n",
      "2.4996049404144287\n",
      "2.4991507530212402\n",
      "2.4987120628356934\n",
      "2.49828839302063\n",
      "2.4978790283203125\n",
      "2.497483015060425\n",
      "2.4970998764038086\n",
      "2.4967291355133057\n",
      "2.496370315551758\n",
      "2.496022939682007\n",
      "2.4956860542297363\n",
      "2.4953596591949463\n",
      "2.4950435161590576\n",
      "2.494736671447754\n",
      "2.494438648223877\n",
      "2.494149684906006\n",
      "2.4938690662384033\n",
      "2.4935967922210693\n",
      "2.4933323860168457\n",
      "2.493074893951416\n",
      "2.4928252696990967\n",
      "2.492582321166992\n",
      "2.4923462867736816\n",
      "2.492116928100586\n",
      "2.4918932914733887\n",
      "2.491676092147827\n",
      "2.491464376449585\n",
      "2.491258382797241\n",
      "2.491057872772217\n",
      "2.4908626079559326\n",
      "2.4906723499298096\n",
      "2.4904870986938477\n",
      "2.4903063774108887\n",
      "2.4901304244995117\n",
      "2.4899590015411377\n",
      "2.4897913932800293\n",
      "2.489628314971924\n",
      "2.489469528198242\n",
      "2.489314079284668\n",
      "2.4891626834869385\n",
      "2.4890148639678955\n",
      "2.48887038230896\n",
      "2.48872971534729\n",
      "2.4885923862457275\n",
      "2.4884581565856934\n",
      "2.4883270263671875\n",
      "2.48819899559021\n",
      "2.4880738258361816\n",
      "2.4879515171051025\n",
      "2.4878318309783936\n",
      "2.4877147674560547\n",
      "2.487600564956665\n",
      "2.4874887466430664\n",
      "2.487379550933838\n",
      "2.4872729778289795\n",
      "2.487168312072754\n",
      "2.4870660305023193\n",
      "2.486966371536255\n",
      "2.4868686199188232\n",
      "2.4867727756500244\n",
      "2.4866788387298584\n",
      "2.4865872859954834\n",
      "2.486497163772583\n",
      "2.4864094257354736\n",
      "2.4863228797912598\n",
      "2.486238718032837\n",
      "2.4861559867858887\n",
      "2.4860751628875732\n",
      "2.4859957695007324\n",
      "2.4859180450439453\n",
      "2.485841751098633\n",
      "2.485767126083374\n",
      "2.4856936931610107\n",
      "2.4856221675872803\n",
      "2.4855518341064453\n",
      "2.485482692718506\n",
      "2.485414981842041\n",
      "2.4853482246398926\n",
      "2.485283136367798\n",
      "2.4852192401885986\n",
      "2.485156536102295\n",
      "2.4850950241088867\n",
      "2.485034465789795\n",
      "2.4849753379821777\n",
      "2.4849166870117188\n",
      "2.4848599433898926\n",
      "2.4848034381866455\n",
      "2.484748601913452\n",
      "2.484694480895996\n",
      "2.4846413135528564\n",
      "2.484589099884033\n",
      "2.4845378398895264\n",
      "2.4844870567321777\n",
      "2.4844377040863037\n",
      "2.484389305114746\n",
      "2.4843413829803467\n",
      "2.4842946529388428\n",
      "2.484247922897339\n",
      "2.4842026233673096\n",
      "2.4841578006744385\n",
      "2.484113931655884\n",
      "2.4840710163116455\n",
      "2.4840285778045654\n",
      "2.4839866161346436\n",
      "2.483945608139038\n",
      "2.483905076980591\n",
      "2.483865261077881\n",
      "2.4838263988494873\n",
      "2.483787775039673\n",
      "2.4837498664855957\n",
      "2.483712673187256\n",
      "2.483675479888916\n",
      "2.4836394786834717\n",
      "2.4836039543151855\n",
      "2.4835689067840576\n",
      "2.483535051345825\n",
      "2.4835007190704346\n",
      "2.4834673404693604\n",
      "2.4834346771240234\n",
      "2.4834022521972656\n",
      "2.483370304107666\n",
      "2.4833385944366455\n",
      "2.4833076000213623\n",
      "2.4832775592803955\n",
      "2.4832472801208496\n",
      "2.483217477798462\n",
      "2.4831886291503906\n",
      "2.4831595420837402\n",
      "2.4831314086914062\n",
      "2.4831035137176514\n",
      "2.4830760955810547\n",
      "2.483048677444458\n",
      "2.4830219745635986\n",
      "2.4829955101013184\n",
      "2.4829697608947754\n",
      "2.4829437732696533\n",
      "2.4829185009002686\n",
      "2.482893943786621\n",
      "2.4828691482543945\n",
      "2.4828453063964844\n",
      "2.482821226119995\n",
      "2.482797622680664\n",
      "2.482774019241333\n",
      "2.4827513694763184\n",
      "2.4827287197113037\n",
      "2.4827065467834473\n",
      "2.482684373855591\n",
      "2.4826626777648926\n",
      "2.4826409816741943\n",
      "2.4826197624206543\n",
      "2.4825992584228516\n",
      "2.4825785160064697\n",
      "2.482558250427246\n",
      "2.4825382232666016\n",
      "2.482517957687378\n",
      "2.48249888420105\n",
      "2.4824790954589844\n",
      "2.4824604988098145\n",
      "2.4824414253234863\n",
      "2.4824225902557373\n",
      "2.4824042320251465\n",
      "2.4823858737945557\n",
      "2.482368230819702\n",
      "2.4823508262634277\n",
      "2.4823334217071533\n",
      "2.482316017150879\n",
      "2.4822988510131836\n",
      "2.4822821617126465\n",
      "2.4822654724121094\n",
      "2.4822490215301514\n",
      "2.4822330474853516\n",
      "2.4822170734405518\n",
      "2.482200860977173\n",
      "2.482185125350952\n",
      "2.4821696281433105\n",
      "2.4821548461914062\n",
      "2.4821395874023438\n",
      "2.4821245670318604\n",
      "2.482109546661377\n",
      "2.4820950031280518\n",
      "2.482081174850464\n",
      "2.4820668697357178\n",
      "2.4820523262023926\n",
      "2.4820384979248047\n",
      "2.482025146484375\n",
      "2.482011318206787\n",
      "2.4819979667663574\n",
      "2.4819843769073486\n",
      "2.481971502304077\n",
      "2.4819586277008057\n",
      "2.4819459915161133\n",
      "2.481933116912842\n",
      "2.4819207191467285\n",
      "2.481908082962036\n",
      "2.481895685195923\n",
      "2.481884002685547\n",
      "2.4818718433380127\n",
      "2.4818599224090576\n",
      "2.4818482398986816\n",
      "2.4818363189697266\n",
      "2.481825351715088\n",
      "2.481813669204712\n",
      "2.481802225112915\n",
      "2.4817914962768555\n",
      "2.481780529022217\n",
      "2.481769561767578\n",
      "2.4817585945129395\n",
      "2.481748342514038\n",
      "2.4817376136779785\n",
      "2.481727123260498\n",
      "2.4817168712615967\n",
      "2.4817066192626953\n",
      "2.481696844100952\n",
      "2.48168683052063\n",
      "2.4816770553588867\n",
      "2.4816670417785645\n",
      "2.4816572666168213\n",
      "2.4816477298736572\n",
      "2.481638193130493\n",
      "2.481628894805908\n",
      "2.4816195964813232\n",
      "2.4816105365753174\n",
      "2.4816017150878906\n",
      "2.4815926551818848\n",
      "2.481583595275879\n",
      "2.481574773788452\n",
      "2.4815659523010254\n",
      "2.4815573692321777\n",
      "2.48154878616333\n",
      "2.4815402030944824\n",
      "2.481532096862793\n",
      "2.4815235137939453\n",
      "2.4815151691436768\n",
      "2.4815073013305664\n"
     ]
    }
   ],
   "source": [
    "for i in range(300):\n",
    "    xenc = F.one_hot(xs, num_classes=27).float()\n",
    "    logits = xenc @ W\n",
    "    counts = logits.exp()\n",
    "    prob = counts / counts.sum(1, keepdim=True)\n",
    "    loss = - prob[torch.arange(num), ys].log().mean() + 0.01 * (W**2).mean()\n",
    "    print(loss.item())\n",
    "\n",
    "    W.grad = None\n",
    "    loss.backward()\n",
    "    W.data += -50 * W.grad\n"
   ]
  },
  {
   "cell_type": "code",
   "execution_count": 232,
   "metadata": {},
   "outputs": [
    {
     "name": "stdout",
     "output_type": "stream",
     "text": [
      "junide.\n",
      "janasah.\n",
      "prelay.\n",
      "a.\n",
      "nn.\n"
     ]
    }
   ],
   "source": [
    "g = torch.Generator().manual_seed(2147483647)\n",
    "for _ in range(5):\n",
    "    out = []\n",
    "    ix = 0\n",
    "    while True:\n",
    "\n",
    "        xenc = F.one_hot(torch.tensor([ix]), num_classes=27).float()\n",
    "        logits = xenc @ W\n",
    "        counts = logits.exp()\n",
    "        P = counts / counts.sum(1, keepdims=True)\n",
    "        ix = torch.multinomial(P, num_samples=1, replacement=True, generator=g).item()\n",
    "        out.append(itos[ix])\n",
    "        if ix == 0:\n",
    "            break\n",
    "    print(''.join(out))"
   ]
  }
 ],
 "metadata": {
  "kernelspec": {
   "display_name": "base",
   "language": "python",
   "name": "python3"
  },
  "language_info": {
   "codemirror_mode": {
    "name": "ipython",
    "version": 3
   },
   "file_extension": ".py",
   "mimetype": "text/x-python",
   "name": "python",
   "nbconvert_exporter": "python",
   "pygments_lexer": "ipython3",
   "version": "3.10.14"
  }
 },
 "nbformat": 4,
 "nbformat_minor": 2
}
