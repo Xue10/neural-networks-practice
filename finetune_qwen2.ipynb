{
  "cells": [
    {
      "cell_type": "code",
      "execution_count": 10,
      "metadata": {
        "colab": {
          "base_uri": "https://localhost:8080/"
        },
        "id": "hV5qwgPmAEHD",
        "outputId": "143451eb-e3ce-48fc-df59-53afe2eec6d5"
      },
      "outputs": [],
      "source": [
        "import torch\n",
        "from datasets import load_dataset, Dataset\n",
        "from peft import LoraConfig, get_peft_model\n",
        "from transformers import AutoModelForCausalLM, AutoTokenizer, BitsAndBytesConfig, TrainingArguments\n",
        "from trl import SFTConfig, SFTTrainer\n",
        "import bitsandbytes as bnb\n",
        "import os"
      ]
    },
    {
      "cell_type": "code",
      "execution_count": 11,
      "metadata": {
        "colab": {
          "base_uri": "https://localhost:8080/"
        },
        "id": "qP9KHMwHAsU8",
        "outputId": "aa9dfbc9-7103-4676-cb0d-b9c3ebb32a5b"
      },
      "outputs": [
        {
          "name": "stderr",
          "output_type": "stream",
          "text": [
            "Special tokens have been added in the vocabulary, make sure the associated word embeddings are fine-tuned or trained.\n"
          ]
        }
      ],
      "source": [
        "base_model_id = \"Qwen2-0.5B-bnb-4bit\"\n",
        "device = \"cuda\" if torch.cuda.is_available() else \"cpu\"\n",
        "\n",
        "model = AutoModelForCausalLM.from_pretrained(base_model_id)\n",
        "tokenizer = AutoTokenizer.from_pretrained(base_model_id)"
      ]
    },
    {
      "cell_type": "code",
      "execution_count": 12,
      "metadata": {
        "id": "ZqhidsW1B27U"
      },
      "outputs": [],
      "source": [
        "ds = load_dataset(\"csv\", data_files=\"data/songci.csv\")\n"
      ]
    },
    {
      "cell_type": "code",
      "execution_count": 13,
      "metadata": {
        "id": "QOdlO3nuSmFk"
      },
      "outputs": [],
      "source": [
        "ds = ds.remove_columns([\"id\", \"group_index\", \"author\"])\n",
        "ds = ds.filter(lambda row: row[\"dynasty\"] == \"宋\" and row[\"type\"] == \"詞\")"
      ]
    },
    {
      "cell_type": "code",
      "execution_count": 14,
      "metadata": {
        "colab": {
          "base_uri": "https://localhost:8080/"
        },
        "id": "LKU9vJBcWn7_",
        "outputId": "f539a22d-447f-4158-9c13-fb34126ab112"
      },
      "outputs": [
        {
          "data": {
            "text/plain": [
              "{'title': ['蝶恋花', '桂殿秋', '好事近'],\n",
              " 'type': ['詞', '詞', '詞'],\n",
              " 'dynasty': ['宋', '宋', '宋'],\n",
              " 'content': ['团扇题诗春又晚。小梦惊残，碧草池塘满。一曲银钩帘半捲。绿窗睡足莺声软。瘦损衣围罗带减。前度风流，陡觉心情懒。谁品新腔拈翠管。画楼吹彻江南怨。',\n",
              "  '青帝子，碧莲宫。不驾云车骑白龙。瑶池路远羽衣湿，玉珮泠泠明月中。',\n",
              "  '花底一声莺，花上半钩斜月。月落乌啼何处，点飞英如雪。东风吹尽去年愁，解放丁香结。惊动小亭红雨，舞双双金蝶。'],\n",
              " 'text': ['<|im_start|>system\\n你是一个宋词专家，根据用户的词牌名和其他要求作词<|im_end|>\\n<|im_start|>user\\n蝶恋花<|im_end|>\\n<|im_start|>assistant\\n团扇题诗春又晚。小梦惊残，碧草池塘满。一曲银钩帘半捲。绿窗睡足莺声软。瘦损衣围罗带减。前度风流，陡觉心情懒。谁品新腔拈翠管。画楼吹彻江南怨。<|im_end|>\\n',\n",
              "  '<|im_start|>system\\n你是一个宋词专家，根据用户的词牌名和其他要求作词<|im_end|>\\n<|im_start|>user\\n桂殿秋<|im_end|>\\n<|im_start|>assistant\\n青帝子，碧莲宫。不驾云车骑白龙。瑶池路远羽衣湿，玉珮泠泠明月中。<|im_end|>\\n',\n",
              "  '<|im_start|>system\\n你是一个宋词专家，根据用户的词牌名和其他要求作词<|im_end|>\\n<|im_start|>user\\n好事近<|im_end|>\\n<|im_start|>assistant\\n花底一声莺，花上半钩斜月。月落乌啼何处，点飞英如雪。东风吹尽去年愁，解放丁香结。惊动小亭红雨，舞双双金蝶。<|im_end|>\\n']}"
            ]
          },
          "execution_count": 14,
          "metadata": {},
          "output_type": "execute_result"
        }
      ],
      "source": [
        "def format_chat_template(row):\n",
        "  messages = [\n",
        "      {\n",
        "          \"role\": \"system\",\n",
        "          \"content\": \"你是一个宋词专家，根据用户的词牌名和其他要求作词\",\n",
        "      },\n",
        "      {\"role\": \"user\", \"content\": row[\"title\"]},\n",
        "      {\"role\": \"assistant\", \"content\": row[\"content\"]},\n",
        "  ]\n",
        "\n",
        "  row[\"text\"] = tokenizer.apply_chat_template(messages, tokenize=False)\n",
        "  return row\n",
        "\n",
        "ds = ds.map(format_chat_template)\n",
        "ds['train'][:3]"
      ]
    },
    {
      "cell_type": "code",
      "execution_count": 15,
      "metadata": {
        "id": "Hm8-aDCkkXic"
      },
      "outputs": [],
      "source": [
        "ds = ds.shuffle(seed=42)"
      ]
    },
    {
      "cell_type": "code",
      "execution_count": 16,
      "metadata": {
        "id": "WEpfZAiDVpTW"
      },
      "outputs": [],
      "source": [
        "dataset = ds['train'].select(range(2000)).train_test_split(test_size=0.1)"
      ]
    },
    {
      "cell_type": "code",
      "execution_count": 17,
      "metadata": {
        "colab": {
          "base_uri": "https://localhost:8080/"
        },
        "id": "iROZiqi9jSJQ",
        "outputId": "a7397514-341f-49fd-91b4-70c39e0812c3"
      },
      "outputs": [
        {
          "name": "stdout",
          "output_type": "stream",
          "text": [
            "DatasetDict({\n",
            "    train: Dataset({\n",
            "        features: ['title', 'type', 'dynasty', 'content', 'text'],\n",
            "        num_rows: 1800\n",
            "    })\n",
            "    test: Dataset({\n",
            "        features: ['title', 'type', 'dynasty', 'content', 'text'],\n",
            "        num_rows: 200\n",
            "    })\n",
            "})\n"
          ]
        }
      ],
      "source": [
        "print(dataset)"
      ]
    },
    {
      "cell_type": "code",
      "execution_count": 18,
      "metadata": {
        "id": "dfE1d_7bkI2V"
      },
      "outputs": [],
      "source": [
        "config = LoraConfig(\n",
        "    r=8,\n",
        "    lora_alpha=32,\n",
        "    target_modules=[\"q_proj\", \"k_proj\", \"v_proj\", \"o_proj\", \"gate_proj\", \"up_proj\", \"down_proj\"],\n",
        "    lora_dropout=0.05,\n",
        "    task_type=\"CAUSAL_LM\",\n",
        "    bias=\"none\",\n",
        ")\n",
        "\n",
        "model = get_peft_model(model, config)"
      ]
    },
    {
      "cell_type": "code",
      "execution_count": 19,
      "metadata": {
        "colab": {
          "base_uri": "https://localhost:8080/"
        },
        "id": "v0pKBWjUm6pt",
        "outputId": "cd66ca7e-8c48-4ad0-8a74-d0ed33c8902b"
      },
      "outputs": [
        {
          "name": "stdout",
          "output_type": "stream",
          "text": [
            "Trainable: 4399104 | total: 498431872 | Percentage: 0.8826%\n"
          ]
        }
      ],
      "source": [
        "trainable, total = model.get_nb_trainable_parameters()\n",
        "print(f\"Trainable: {trainable} | total: {total} | Percentage: {trainable/total*100:.4f}%\")"
      ]
    },
    {
      "cell_type": "code",
      "execution_count": 20,
      "metadata": {
        "id": "67idaY4BnLot"
      },
      "outputs": [],
      "source": [
        "sft_config = SFTConfig(\n",
        "    output_dir=\"/model\",\n",
        "    dataset_batch_size=1,\n",
        "    dataset_text_field=\"text\",\n",
        "    warmup_steps=10,\n",
        "    # max_steps=100,\n",
        "    bf16=True,\n",
        "    num_train_epochs=1,\n",
        "    learning_rate=2e-4,\n",
        "    logging_steps=10,\n",
        "    # packing=True,\n",
        ")"
      ]
    },
    {
      "cell_type": "code",
      "execution_count": 21,
      "metadata": {
        "colab": {
          "base_uri": "https://localhost:8080/",
          "height": 192,
          "referenced_widgets": [
            "66918a1db98344cd81a27ebb3622186f",
            "87fa4337d674480e887f05173550cad8",
            "099bcf1d50284920af931442e7b80160",
            "f87e125055db4ec68797d42a95c69471",
            "207971e5a3674a56b431797ebd13e11f",
            "47fb608abc4c4d1998a5adbd857b6421",
            "74483eb356604a8e8d9a925c8df0602c",
            "ffefd4db1381443c915e8f1a21d2e39f",
            "7d3f8d3092db4e80b558af1d6e75e9ce",
            "b76b3ede026a40e594607798348a14f1",
            "d3d3222326284f658d60eae3803c3eb0",
            "2b8908e3239d43b6b09085b1ba32abbb",
            "2f9b463c15e949d1ac01da4eb2d37ef1",
            "aab167e22d9e4bb39993eb9867e9834f",
            "9fa3d419f49c4e2da600b29625fd6319",
            "045b7872595a4498a092ffce6ce64984",
            "4cb4f80b76dc43bbb49c9b8dccc78094",
            "230afa75fee94d4d8fbff1a4ebc1f444",
            "c844e13f5e724db5b504b0c595633392",
            "77656ccbf4bc4680805298f7015debb4",
            "76c4c0c98cc74ac0abf683ae98e8ac79",
            "521b277768704ccc9383735f4d730d30"
          ]
        },
        "id": "YY5Rkc4Ootml",
        "outputId": "b5da0c17-5215-42f8-c83e-ffcbff814566"
      },
      "outputs": [
        {
          "name": "stderr",
          "output_type": "stream",
          "text": [
            "c:\\Users\\X\\Anaconda3\\lib\\site-packages\\huggingface_hub\\utils\\_deprecation.py:100: FutureWarning: Deprecated argument(s) used in '__init__': max_seq_length, dataset_batch_size. Will not be supported from version '1.0.0'.\n",
            "\n",
            "Deprecated positional argument(s) used in SFTTrainer, please use the SFTConfig to set these arguments instead.\n",
            "  warnings.warn(message, FutureWarning)\n",
            "Special tokens have been added in the vocabulary, make sure the associated word embeddings are fine-tuned or trained.\n",
            "c:\\Users\\X\\Anaconda3\\lib\\site-packages\\trl\\trainer\\sft_trainer.py:280: UserWarning: You passed a `max_seq_length` argument to the SFTTrainer, the value you passed will override the one in the `SFTConfig`.\n",
            "  warnings.warn(\n"
          ]
        },
        {
          "data": {
            "application/vnd.jupyter.widget-view+json": {
              "model_id": "14af77ba770942a1b34fd6ea712eff92",
              "version_major": 2,
              "version_minor": 0
            },
            "text/plain": [
              "Map:   0%|          | 0/1800 [00:00<?, ? examples/s]"
            ]
          },
          "metadata": {},
          "output_type": "display_data"
        },
        {
          "data": {
            "application/vnd.jupyter.widget-view+json": {
              "model_id": "fe74be5629aa44fb824c1c13ca965206",
              "version_major": 2,
              "version_minor": 0
            },
            "text/plain": [
              "Map:   0%|          | 0/200 [00:00<?, ? examples/s]"
            ]
          },
          "metadata": {},
          "output_type": "display_data"
        },
        {
          "name": "stderr",
          "output_type": "stream",
          "text": [
            "c:\\Users\\X\\Anaconda3\\lib\\site-packages\\trl\\trainer\\sft_trainer.py:408: UserWarning: You passed a tokenizer with `padding_side` not equal to `right` to the SFTTrainer. This might lead to some unexpected behaviour due to overflow issues when training a model in half-precision. You might consider adding `tokenizer.padding_side = 'right'` to your code.\n",
            "  warnings.warn(\n",
            "c:\\Users\\X\\Anaconda3\\lib\\site-packages\\accelerate\\accelerator.py:451: FutureWarning: Passing the following arguments to `Accelerator` is deprecated and will be removed in version 1.0 of Accelerate: dict_keys(['dispatch_batches', 'split_batches']). Please pass an `accelerate.DataLoaderConfiguration` instead: \n",
            "dataloader_config = DataLoaderConfiguration(dispatch_batches=None, split_batches=False)\n",
            "  warnings.warn(\n"
          ]
        }
      ],
      "source": [
        "trainer = SFTTrainer(\n",
        "    model=model,\n",
        "    train_dataset=dataset[\"train\"],\n",
        "    eval_dataset=dataset[\"test\"],\n",
        "    peft_config=config,\n",
        "    max_seq_length=256,\n",
        "    args=sft_config,\n",
        "    dataset_batch_size=1,\n",
        ")\n"
      ]
    },
    {
      "cell_type": "code",
      "execution_count": 22,
      "metadata": {
        "colab": {
          "base_uri": "https://localhost:8080/",
          "height": 963
        },
        "id": "XTUF1tUSpmVr",
        "outputId": "e1a66da0-9c7d-4b2a-ac66-be1fe1716946"
      },
      "outputs": [
        {
          "data": {
            "application/vnd.jupyter.widget-view+json": {
              "model_id": "fc9541a58a204cca8d3b52852e9f6431",
              "version_major": 2,
              "version_minor": 0
            },
            "text/plain": [
              "  0%|          | 0/225 [00:00<?, ?it/s]"
            ]
          },
          "metadata": {},
          "output_type": "display_data"
        },
        {
          "name": "stderr",
          "output_type": "stream",
          "text": [
            "c:\\Users\\X\\Anaconda3\\lib\\site-packages\\transformers\\models\\qwen2\\modeling_qwen2.py:698: UserWarning: 1Torch was not compiled with flash attention. (Triggered internally at C:\\cb\\pytorch_1000000000000\\work\\aten\\src\\ATen\\native\\transformers\\cuda\\sdp_utils.cpp:555.)\n",
            "  attn_output = torch.nn.functional.scaled_dot_product_attention(\n"
          ]
        },
        {
          "name": "stdout",
          "output_type": "stream",
          "text": [
            "{'loss': 4.7995, 'learning_rate': 0.0002, 'epoch': 0.04}\n",
            "{'loss': 3.618, 'learning_rate': 0.00019069767441860466, 'epoch': 0.09}\n",
            "{'loss': 3.5571, 'learning_rate': 0.0001813953488372093, 'epoch': 0.13}\n",
            "{'loss': 3.6179, 'learning_rate': 0.00017209302325581395, 'epoch': 0.18}\n",
            "{'loss': 3.5592, 'learning_rate': 0.00016279069767441862, 'epoch': 0.22}\n",
            "{'loss': 3.5199, 'learning_rate': 0.00015348837209302327, 'epoch': 0.27}\n",
            "{'loss': 3.3457, 'learning_rate': 0.00014418604651162791, 'epoch': 0.31}\n",
            "{'loss': 3.5625, 'learning_rate': 0.00013488372093023256, 'epoch': 0.36}\n",
            "{'loss': 3.4644, 'learning_rate': 0.0001255813953488372, 'epoch': 0.4}\n",
            "{'loss': 3.449, 'learning_rate': 0.00011627906976744187, 'epoch': 0.44}\n",
            "{'loss': 3.3784, 'learning_rate': 0.00010697674418604651, 'epoch': 0.49}\n",
            "{'loss': 3.359, 'learning_rate': 9.767441860465116e-05, 'epoch': 0.53}\n",
            "{'loss': 3.5637, 'learning_rate': 8.837209302325582e-05, 'epoch': 0.58}\n",
            "{'loss': 3.4526, 'learning_rate': 7.906976744186047e-05, 'epoch': 0.62}\n",
            "{'loss': 3.4927, 'learning_rate': 6.976744186046513e-05, 'epoch': 0.67}\n",
            "{'loss': 3.4889, 'learning_rate': 6.0465116279069765e-05, 'epoch': 0.71}\n",
            "{'loss': 3.3436, 'learning_rate': 5.1162790697674425e-05, 'epoch': 0.76}\n",
            "{'loss': 3.3902, 'learning_rate': 4.186046511627907e-05, 'epoch': 0.8}\n",
            "{'loss': 3.3381, 'learning_rate': 3.2558139534883724e-05, 'epoch': 0.84}\n",
            "{'loss': 3.4208, 'learning_rate': 2.3255813953488374e-05, 'epoch': 0.89}\n",
            "{'loss': 3.426, 'learning_rate': 1.3953488372093024e-05, 'epoch': 0.93}\n",
            "{'loss': 3.4608, 'learning_rate': 4.651162790697674e-06, 'epoch': 0.98}\n",
            "{'train_runtime': 714.6091, 'train_samples_per_second': 2.519, 'train_steps_per_second': 0.315, 'train_loss': 3.5255275302463107, 'epoch': 1.0}\n"
          ]
        },
        {
          "data": {
            "text/plain": [
              "TrainOutput(global_step=225, training_loss=3.5255275302463107, metrics={'train_runtime': 714.6091, 'train_samples_per_second': 2.519, 'train_steps_per_second': 0.315, 'train_loss': 3.5255275302463107, 'epoch': 1.0})"
            ]
          },
          "execution_count": 22,
          "metadata": {},
          "output_type": "execute_result"
        }
      ],
      "source": [
        "trainer.train()"
      ]
    },
    {
      "cell_type": "code",
      "execution_count": 23,
      "metadata": {},
      "outputs": [
        {
          "data": {
            "application/vnd.jupyter.widget-view+json": {
              "model_id": "a7bafef5cf314c55a9bbedd9336f8812",
              "version_major": 2,
              "version_minor": 0
            },
            "text/plain": [
              "  0%|          | 0/25 [00:00<?, ?it/s]"
            ]
          },
          "metadata": {},
          "output_type": "display_data"
        },
        {
          "data": {
            "text/plain": [
              "{'eval_loss': 3.4121129512786865,\n",
              " 'eval_runtime': 15.8034,\n",
              " 'eval_samples_per_second': 12.655,\n",
              " 'eval_steps_per_second': 1.582,\n",
              " 'epoch': 1.0}"
            ]
          },
          "execution_count": 23,
          "metadata": {},
          "output_type": "execute_result"
        }
      ],
      "source": [
        "trainer.evaluate()"
      ]
    },
    {
      "cell_type": "code",
      "execution_count": 29,
      "metadata": {},
      "outputs": [
        {
          "name": "stderr",
          "output_type": "stream",
          "text": [
            "Setting `pad_token_id` to `eos_token_id`:151643 for open-end generation.\n"
          ]
        },
        {
          "name": "stdout",
          "output_type": "stream",
          "text": [
            "\n",
            "风露初晴，风月初晴，初晴初雨。风月初晴，初晴初雨。风月初晴，初晴初雨。风月初晴，初晴初雨。风月初晴，初晴初雨。风月初晴，初晴初雨\n"
          ]
        }
      ],
      "source": [
        "messages = [\n",
        "    {\n",
        "        \"role\": \"system\",\n",
        "        \"content\": \"你是一个宋词专家，根据用户的词牌名和其他要求作词\"\n",
        "    },\n",
        "    {\n",
        "        \"role\": \"user\",\n",
        "        \"content\": \"水龙吟\"\n",
        "    }\n",
        "]\n",
        "\n",
        "prompt = tokenizer.apply_chat_template(messages, tokenize=False, \n",
        "                                       add_generation_prompt=True)\n",
        "\n",
        "inputs = tokenizer(prompt, return_tensors='pt', padding=False, \n",
        "                   truncation=True).to(\"cuda\")\n",
        "# model = AutoModelForCausalLM.from_pretrained(\"Qwen2-0.5B-Instruct\").to(device)\n",
        "\n",
        "outputs = model.generate(**inputs, max_new_tokens=64, num_beams=5, do_sample=True, early_stopping=True,\n",
        "                         num_return_sequences=1)\n",
        "\n",
        "text = tokenizer.decode(outputs[0], skip_special_tokens=True)\n",
        "\n",
        "print(text.split(\"assistant\")[1])"
      ]
    },
    {
      "cell_type": "code",
      "execution_count": 27,
      "metadata": {},
      "outputs": [
        {
          "name": "stdout",
          "output_type": "stream",
          "text": [
            "system\n",
            "你是一个宋词专家，根据用户的词牌名和其他要求作词\n",
            "user\n",
            "水龙吟\n",
            "assistant\n",
            "月色如水，花阴似雪，帘幕轻寒。梦里梦中，一枕无眠。倚阑干，倚阑干。人归无寐，人归无寐。帘幕轻寒。帘幕轻寒。帘幕轻寒。帘幕轻寒。帘\n"
          ]
        }
      ],
      "source": [
        "print(text)"
      ]
    }
  ],
  "metadata": {
    "accelerator": "GPU",
    "colab": {
      "gpuType": "T4",
      "provenance": []
    },
    "kernelspec": {
      "display_name": "Python 3",
      "name": "python3"
    },
    "language_info": {
      "codemirror_mode": {
        "name": "ipython",
        "version": 3
      },
      "file_extension": ".py",
      "mimetype": "text/x-python",
      "name": "python",
      "nbconvert_exporter": "python",
      "pygments_lexer": "ipython3",
      "version": "3.10.14"
    },
    "widgets": {
      "application/vnd.jupyter.widget-state+json": {
        "045b7872595a4498a092ffce6ce64984": {
          "model_module": "@jupyter-widgets/base",
          "model_module_version": "1.2.0",
          "model_name": "LayoutModel",
          "state": {
            "_model_module": "@jupyter-widgets/base",
            "_model_module_version": "1.2.0",
            "_model_name": "LayoutModel",
            "_view_count": null,
            "_view_module": "@jupyter-widgets/base",
            "_view_module_version": "1.2.0",
            "_view_name": "LayoutView",
            "align_content": null,
            "align_items": null,
            "align_self": null,
            "border": null,
            "bottom": null,
            "display": null,
            "flex": null,
            "flex_flow": null,
            "grid_area": null,
            "grid_auto_columns": null,
            "grid_auto_flow": null,
            "grid_auto_rows": null,
            "grid_column": null,
            "grid_gap": null,
            "grid_row": null,
            "grid_template_areas": null,
            "grid_template_columns": null,
            "grid_template_rows": null,
            "height": null,
            "justify_content": null,
            "justify_items": null,
            "left": null,
            "margin": null,
            "max_height": null,
            "max_width": null,
            "min_height": null,
            "min_width": null,
            "object_fit": null,
            "object_position": null,
            "order": null,
            "overflow": null,
            "overflow_x": null,
            "overflow_y": null,
            "padding": null,
            "right": null,
            "top": null,
            "visibility": null,
            "width": null
          }
        },
        "099bcf1d50284920af931442e7b80160": {
          "model_module": "@jupyter-widgets/controls",
          "model_module_version": "1.5.0",
          "model_name": "FloatProgressModel",
          "state": {
            "_dom_classes": [],
            "_model_module": "@jupyter-widgets/controls",
            "_model_module_version": "1.5.0",
            "_model_name": "FloatProgressModel",
            "_view_count": null,
            "_view_module": "@jupyter-widgets/controls",
            "_view_module_version": "1.5.0",
            "_view_name": "ProgressView",
            "bar_style": "success",
            "description": "",
            "description_tooltip": null,
            "layout": "IPY_MODEL_ffefd4db1381443c915e8f1a21d2e39f",
            "max": 8453,
            "min": 0,
            "orientation": "horizontal",
            "style": "IPY_MODEL_7d3f8d3092db4e80b558af1d6e75e9ce",
            "value": 8453
          }
        },
        "207971e5a3674a56b431797ebd13e11f": {
          "model_module": "@jupyter-widgets/base",
          "model_module_version": "1.2.0",
          "model_name": "LayoutModel",
          "state": {
            "_model_module": "@jupyter-widgets/base",
            "_model_module_version": "1.2.0",
            "_model_name": "LayoutModel",
            "_view_count": null,
            "_view_module": "@jupyter-widgets/base",
            "_view_module_version": "1.2.0",
            "_view_name": "LayoutView",
            "align_content": null,
            "align_items": null,
            "align_self": null,
            "border": null,
            "bottom": null,
            "display": null,
            "flex": null,
            "flex_flow": null,
            "grid_area": null,
            "grid_auto_columns": null,
            "grid_auto_flow": null,
            "grid_auto_rows": null,
            "grid_column": null,
            "grid_gap": null,
            "grid_row": null,
            "grid_template_areas": null,
            "grid_template_columns": null,
            "grid_template_rows": null,
            "height": null,
            "justify_content": null,
            "justify_items": null,
            "left": null,
            "margin": null,
            "max_height": null,
            "max_width": null,
            "min_height": null,
            "min_width": null,
            "object_fit": null,
            "object_position": null,
            "order": null,
            "overflow": null,
            "overflow_x": null,
            "overflow_y": null,
            "padding": null,
            "right": null,
            "top": null,
            "visibility": null,
            "width": null
          }
        },
        "230afa75fee94d4d8fbff1a4ebc1f444": {
          "model_module": "@jupyter-widgets/controls",
          "model_module_version": "1.5.0",
          "model_name": "DescriptionStyleModel",
          "state": {
            "_model_module": "@jupyter-widgets/controls",
            "_model_module_version": "1.5.0",
            "_model_name": "DescriptionStyleModel",
            "_view_count": null,
            "_view_module": "@jupyter-widgets/base",
            "_view_module_version": "1.2.0",
            "_view_name": "StyleView",
            "description_width": ""
          }
        },
        "2b8908e3239d43b6b09085b1ba32abbb": {
          "model_module": "@jupyter-widgets/controls",
          "model_module_version": "1.5.0",
          "model_name": "HBoxModel",
          "state": {
            "_dom_classes": [],
            "_model_module": "@jupyter-widgets/controls",
            "_model_module_version": "1.5.0",
            "_model_name": "HBoxModel",
            "_view_count": null,
            "_view_module": "@jupyter-widgets/controls",
            "_view_module_version": "1.5.0",
            "_view_name": "HBoxView",
            "box_style": "",
            "children": [
              "IPY_MODEL_2f9b463c15e949d1ac01da4eb2d37ef1",
              "IPY_MODEL_aab167e22d9e4bb39993eb9867e9834f",
              "IPY_MODEL_9fa3d419f49c4e2da600b29625fd6319"
            ],
            "layout": "IPY_MODEL_045b7872595a4498a092ffce6ce64984"
          }
        },
        "2f9b463c15e949d1ac01da4eb2d37ef1": {
          "model_module": "@jupyter-widgets/controls",
          "model_module_version": "1.5.0",
          "model_name": "HTMLModel",
          "state": {
            "_dom_classes": [],
            "_model_module": "@jupyter-widgets/controls",
            "_model_module_version": "1.5.0",
            "_model_name": "HTMLModel",
            "_view_count": null,
            "_view_module": "@jupyter-widgets/controls",
            "_view_module_version": "1.5.0",
            "_view_name": "HTMLView",
            "description": "",
            "description_tooltip": null,
            "layout": "IPY_MODEL_4cb4f80b76dc43bbb49c9b8dccc78094",
            "placeholder": "​",
            "style": "IPY_MODEL_230afa75fee94d4d8fbff1a4ebc1f444",
            "value": "Map: 100%"
          }
        },
        "47fb608abc4c4d1998a5adbd857b6421": {
          "model_module": "@jupyter-widgets/base",
          "model_module_version": "1.2.0",
          "model_name": "LayoutModel",
          "state": {
            "_model_module": "@jupyter-widgets/base",
            "_model_module_version": "1.2.0",
            "_model_name": "LayoutModel",
            "_view_count": null,
            "_view_module": "@jupyter-widgets/base",
            "_view_module_version": "1.2.0",
            "_view_name": "LayoutView",
            "align_content": null,
            "align_items": null,
            "align_self": null,
            "border": null,
            "bottom": null,
            "display": null,
            "flex": null,
            "flex_flow": null,
            "grid_area": null,
            "grid_auto_columns": null,
            "grid_auto_flow": null,
            "grid_auto_rows": null,
            "grid_column": null,
            "grid_gap": null,
            "grid_row": null,
            "grid_template_areas": null,
            "grid_template_columns": null,
            "grid_template_rows": null,
            "height": null,
            "justify_content": null,
            "justify_items": null,
            "left": null,
            "margin": null,
            "max_height": null,
            "max_width": null,
            "min_height": null,
            "min_width": null,
            "object_fit": null,
            "object_position": null,
            "order": null,
            "overflow": null,
            "overflow_x": null,
            "overflow_y": null,
            "padding": null,
            "right": null,
            "top": null,
            "visibility": null,
            "width": null
          }
        },
        "4cb4f80b76dc43bbb49c9b8dccc78094": {
          "model_module": "@jupyter-widgets/base",
          "model_module_version": "1.2.0",
          "model_name": "LayoutModel",
          "state": {
            "_model_module": "@jupyter-widgets/base",
            "_model_module_version": "1.2.0",
            "_model_name": "LayoutModel",
            "_view_count": null,
            "_view_module": "@jupyter-widgets/base",
            "_view_module_version": "1.2.0",
            "_view_name": "LayoutView",
            "align_content": null,
            "align_items": null,
            "align_self": null,
            "border": null,
            "bottom": null,
            "display": null,
            "flex": null,
            "flex_flow": null,
            "grid_area": null,
            "grid_auto_columns": null,
            "grid_auto_flow": null,
            "grid_auto_rows": null,
            "grid_column": null,
            "grid_gap": null,
            "grid_row": null,
            "grid_template_areas": null,
            "grid_template_columns": null,
            "grid_template_rows": null,
            "height": null,
            "justify_content": null,
            "justify_items": null,
            "left": null,
            "margin": null,
            "max_height": null,
            "max_width": null,
            "min_height": null,
            "min_width": null,
            "object_fit": null,
            "object_position": null,
            "order": null,
            "overflow": null,
            "overflow_x": null,
            "overflow_y": null,
            "padding": null,
            "right": null,
            "top": null,
            "visibility": null,
            "width": null
          }
        },
        "521b277768704ccc9383735f4d730d30": {
          "model_module": "@jupyter-widgets/controls",
          "model_module_version": "1.5.0",
          "model_name": "DescriptionStyleModel",
          "state": {
            "_model_module": "@jupyter-widgets/controls",
            "_model_module_version": "1.5.0",
            "_model_name": "DescriptionStyleModel",
            "_view_count": null,
            "_view_module": "@jupyter-widgets/base",
            "_view_module_version": "1.2.0",
            "_view_name": "StyleView",
            "description_width": ""
          }
        },
        "66918a1db98344cd81a27ebb3622186f": {
          "model_module": "@jupyter-widgets/controls",
          "model_module_version": "1.5.0",
          "model_name": "HBoxModel",
          "state": {
            "_dom_classes": [],
            "_model_module": "@jupyter-widgets/controls",
            "_model_module_version": "1.5.0",
            "_model_name": "HBoxModel",
            "_view_count": null,
            "_view_module": "@jupyter-widgets/controls",
            "_view_module_version": "1.5.0",
            "_view_name": "HBoxView",
            "box_style": "",
            "children": [
              "IPY_MODEL_87fa4337d674480e887f05173550cad8",
              "IPY_MODEL_099bcf1d50284920af931442e7b80160",
              "IPY_MODEL_f87e125055db4ec68797d42a95c69471"
            ],
            "layout": "IPY_MODEL_207971e5a3674a56b431797ebd13e11f"
          }
        },
        "74483eb356604a8e8d9a925c8df0602c": {
          "model_module": "@jupyter-widgets/controls",
          "model_module_version": "1.5.0",
          "model_name": "DescriptionStyleModel",
          "state": {
            "_model_module": "@jupyter-widgets/controls",
            "_model_module_version": "1.5.0",
            "_model_name": "DescriptionStyleModel",
            "_view_count": null,
            "_view_module": "@jupyter-widgets/base",
            "_view_module_version": "1.2.0",
            "_view_name": "StyleView",
            "description_width": ""
          }
        },
        "76c4c0c98cc74ac0abf683ae98e8ac79": {
          "model_module": "@jupyter-widgets/base",
          "model_module_version": "1.2.0",
          "model_name": "LayoutModel",
          "state": {
            "_model_module": "@jupyter-widgets/base",
            "_model_module_version": "1.2.0",
            "_model_name": "LayoutModel",
            "_view_count": null,
            "_view_module": "@jupyter-widgets/base",
            "_view_module_version": "1.2.0",
            "_view_name": "LayoutView",
            "align_content": null,
            "align_items": null,
            "align_self": null,
            "border": null,
            "bottom": null,
            "display": null,
            "flex": null,
            "flex_flow": null,
            "grid_area": null,
            "grid_auto_columns": null,
            "grid_auto_flow": null,
            "grid_auto_rows": null,
            "grid_column": null,
            "grid_gap": null,
            "grid_row": null,
            "grid_template_areas": null,
            "grid_template_columns": null,
            "grid_template_rows": null,
            "height": null,
            "justify_content": null,
            "justify_items": null,
            "left": null,
            "margin": null,
            "max_height": null,
            "max_width": null,
            "min_height": null,
            "min_width": null,
            "object_fit": null,
            "object_position": null,
            "order": null,
            "overflow": null,
            "overflow_x": null,
            "overflow_y": null,
            "padding": null,
            "right": null,
            "top": null,
            "visibility": null,
            "width": null
          }
        },
        "77656ccbf4bc4680805298f7015debb4": {
          "model_module": "@jupyter-widgets/controls",
          "model_module_version": "1.5.0",
          "model_name": "ProgressStyleModel",
          "state": {
            "_model_module": "@jupyter-widgets/controls",
            "_model_module_version": "1.5.0",
            "_model_name": "ProgressStyleModel",
            "_view_count": null,
            "_view_module": "@jupyter-widgets/base",
            "_view_module_version": "1.2.0",
            "_view_name": "StyleView",
            "bar_color": null,
            "description_width": ""
          }
        },
        "7d3f8d3092db4e80b558af1d6e75e9ce": {
          "model_module": "@jupyter-widgets/controls",
          "model_module_version": "1.5.0",
          "model_name": "ProgressStyleModel",
          "state": {
            "_model_module": "@jupyter-widgets/controls",
            "_model_module_version": "1.5.0",
            "_model_name": "ProgressStyleModel",
            "_view_count": null,
            "_view_module": "@jupyter-widgets/base",
            "_view_module_version": "1.2.0",
            "_view_name": "StyleView",
            "bar_color": null,
            "description_width": ""
          }
        },
        "87fa4337d674480e887f05173550cad8": {
          "model_module": "@jupyter-widgets/controls",
          "model_module_version": "1.5.0",
          "model_name": "HTMLModel",
          "state": {
            "_dom_classes": [],
            "_model_module": "@jupyter-widgets/controls",
            "_model_module_version": "1.5.0",
            "_model_name": "HTMLModel",
            "_view_count": null,
            "_view_module": "@jupyter-widgets/controls",
            "_view_module_version": "1.5.0",
            "_view_name": "HTMLView",
            "description": "",
            "description_tooltip": null,
            "layout": "IPY_MODEL_47fb608abc4c4d1998a5adbd857b6421",
            "placeholder": "​",
            "style": "IPY_MODEL_74483eb356604a8e8d9a925c8df0602c",
            "value": "Map: 100%"
          }
        },
        "9fa3d419f49c4e2da600b29625fd6319": {
          "model_module": "@jupyter-widgets/controls",
          "model_module_version": "1.5.0",
          "model_name": "HTMLModel",
          "state": {
            "_dom_classes": [],
            "_model_module": "@jupyter-widgets/controls",
            "_model_module_version": "1.5.0",
            "_model_name": "HTMLModel",
            "_view_count": null,
            "_view_module": "@jupyter-widgets/controls",
            "_view_module_version": "1.5.0",
            "_view_name": "HTMLView",
            "description": "",
            "description_tooltip": null,
            "layout": "IPY_MODEL_76c4c0c98cc74ac0abf683ae98e8ac79",
            "placeholder": "​",
            "style": "IPY_MODEL_521b277768704ccc9383735f4d730d30",
            "value": " 940/940 [00:00&lt;00:00, 1655.56 examples/s]"
          }
        },
        "aab167e22d9e4bb39993eb9867e9834f": {
          "model_module": "@jupyter-widgets/controls",
          "model_module_version": "1.5.0",
          "model_name": "FloatProgressModel",
          "state": {
            "_dom_classes": [],
            "_model_module": "@jupyter-widgets/controls",
            "_model_module_version": "1.5.0",
            "_model_name": "FloatProgressModel",
            "_view_count": null,
            "_view_module": "@jupyter-widgets/controls",
            "_view_module_version": "1.5.0",
            "_view_name": "ProgressView",
            "bar_style": "success",
            "description": "",
            "description_tooltip": null,
            "layout": "IPY_MODEL_c844e13f5e724db5b504b0c595633392",
            "max": 940,
            "min": 0,
            "orientation": "horizontal",
            "style": "IPY_MODEL_77656ccbf4bc4680805298f7015debb4",
            "value": 940
          }
        },
        "b76b3ede026a40e594607798348a14f1": {
          "model_module": "@jupyter-widgets/base",
          "model_module_version": "1.2.0",
          "model_name": "LayoutModel",
          "state": {
            "_model_module": "@jupyter-widgets/base",
            "_model_module_version": "1.2.0",
            "_model_name": "LayoutModel",
            "_view_count": null,
            "_view_module": "@jupyter-widgets/base",
            "_view_module_version": "1.2.0",
            "_view_name": "LayoutView",
            "align_content": null,
            "align_items": null,
            "align_self": null,
            "border": null,
            "bottom": null,
            "display": null,
            "flex": null,
            "flex_flow": null,
            "grid_area": null,
            "grid_auto_columns": null,
            "grid_auto_flow": null,
            "grid_auto_rows": null,
            "grid_column": null,
            "grid_gap": null,
            "grid_row": null,
            "grid_template_areas": null,
            "grid_template_columns": null,
            "grid_template_rows": null,
            "height": null,
            "justify_content": null,
            "justify_items": null,
            "left": null,
            "margin": null,
            "max_height": null,
            "max_width": null,
            "min_height": null,
            "min_width": null,
            "object_fit": null,
            "object_position": null,
            "order": null,
            "overflow": null,
            "overflow_x": null,
            "overflow_y": null,
            "padding": null,
            "right": null,
            "top": null,
            "visibility": null,
            "width": null
          }
        },
        "c844e13f5e724db5b504b0c595633392": {
          "model_module": "@jupyter-widgets/base",
          "model_module_version": "1.2.0",
          "model_name": "LayoutModel",
          "state": {
            "_model_module": "@jupyter-widgets/base",
            "_model_module_version": "1.2.0",
            "_model_name": "LayoutModel",
            "_view_count": null,
            "_view_module": "@jupyter-widgets/base",
            "_view_module_version": "1.2.0",
            "_view_name": "LayoutView",
            "align_content": null,
            "align_items": null,
            "align_self": null,
            "border": null,
            "bottom": null,
            "display": null,
            "flex": null,
            "flex_flow": null,
            "grid_area": null,
            "grid_auto_columns": null,
            "grid_auto_flow": null,
            "grid_auto_rows": null,
            "grid_column": null,
            "grid_gap": null,
            "grid_row": null,
            "grid_template_areas": null,
            "grid_template_columns": null,
            "grid_template_rows": null,
            "height": null,
            "justify_content": null,
            "justify_items": null,
            "left": null,
            "margin": null,
            "max_height": null,
            "max_width": null,
            "min_height": null,
            "min_width": null,
            "object_fit": null,
            "object_position": null,
            "order": null,
            "overflow": null,
            "overflow_x": null,
            "overflow_y": null,
            "padding": null,
            "right": null,
            "top": null,
            "visibility": null,
            "width": null
          }
        },
        "d3d3222326284f658d60eae3803c3eb0": {
          "model_module": "@jupyter-widgets/controls",
          "model_module_version": "1.5.0",
          "model_name": "DescriptionStyleModel",
          "state": {
            "_model_module": "@jupyter-widgets/controls",
            "_model_module_version": "1.5.0",
            "_model_name": "DescriptionStyleModel",
            "_view_count": null,
            "_view_module": "@jupyter-widgets/base",
            "_view_module_version": "1.2.0",
            "_view_name": "StyleView",
            "description_width": ""
          }
        },
        "f87e125055db4ec68797d42a95c69471": {
          "model_module": "@jupyter-widgets/controls",
          "model_module_version": "1.5.0",
          "model_name": "HTMLModel",
          "state": {
            "_dom_classes": [],
            "_model_module": "@jupyter-widgets/controls",
            "_model_module_version": "1.5.0",
            "_model_name": "HTMLModel",
            "_view_count": null,
            "_view_module": "@jupyter-widgets/controls",
            "_view_module_version": "1.5.0",
            "_view_name": "HTMLView",
            "description": "",
            "description_tooltip": null,
            "layout": "IPY_MODEL_b76b3ede026a40e594607798348a14f1",
            "placeholder": "​",
            "style": "IPY_MODEL_d3d3222326284f658d60eae3803c3eb0",
            "value": " 8453/8453 [00:04&lt;00:00, 1863.71 examples/s]"
          }
        },
        "ffefd4db1381443c915e8f1a21d2e39f": {
          "model_module": "@jupyter-widgets/base",
          "model_module_version": "1.2.0",
          "model_name": "LayoutModel",
          "state": {
            "_model_module": "@jupyter-widgets/base",
            "_model_module_version": "1.2.0",
            "_model_name": "LayoutModel",
            "_view_count": null,
            "_view_module": "@jupyter-widgets/base",
            "_view_module_version": "1.2.0",
            "_view_name": "LayoutView",
            "align_content": null,
            "align_items": null,
            "align_self": null,
            "border": null,
            "bottom": null,
            "display": null,
            "flex": null,
            "flex_flow": null,
            "grid_area": null,
            "grid_auto_columns": null,
            "grid_auto_flow": null,
            "grid_auto_rows": null,
            "grid_column": null,
            "grid_gap": null,
            "grid_row": null,
            "grid_template_areas": null,
            "grid_template_columns": null,
            "grid_template_rows": null,
            "height": null,
            "justify_content": null,
            "justify_items": null,
            "left": null,
            "margin": null,
            "max_height": null,
            "max_width": null,
            "min_height": null,
            "min_width": null,
            "object_fit": null,
            "object_position": null,
            "order": null,
            "overflow": null,
            "overflow_x": null,
            "overflow_y": null,
            "padding": null,
            "right": null,
            "top": null,
            "visibility": null,
            "width": null
          }
        }
      }
    }
  },
  "nbformat": 4,
  "nbformat_minor": 0
}
