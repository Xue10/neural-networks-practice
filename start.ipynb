{
 "cells": [
  {
   "cell_type": "code",
   "execution_count": 27,
   "metadata": {},
   "outputs": [],
   "source": [
    "import os\n",
    "os.environ['http_proxy'] = \"127.0.0.1:7890\"\n",
    "os.environ['https_proxy'] = \"127.0.0.1:7890\""
   ]
  },
  {
   "cell_type": "code",
   "execution_count": 28,
   "metadata": {},
   "outputs": [
    {
     "data": {
      "text/plain": [
       "<Response [200]>"
      ]
     },
     "execution_count": 28,
     "metadata": {},
     "output_type": "execute_result"
    }
   ],
   "source": [
    "import requests\n",
    "requests.get(\"https://google.com\")"
   ]
  },
  {
   "cell_type": "code",
   "execution_count": 29,
   "metadata": {},
   "outputs": [],
   "source": [
    "import torch\n",
    "from torch import nn\n",
    "from torch.utils.data import DataLoader\n",
    "from torchvision import datasets\n",
    "from torchvision.transforms import ToTensor"
   ]
  },
  {
   "cell_type": "code",
   "execution_count": 30,
   "metadata": {},
   "outputs": [],
   "source": [
    "training_data = datasets.FashionMNIST(\n",
    "    root=\"data\",\n",
    "    train=True,\n",
    "    download=True,\n",
    "    transform=ToTensor()\n",
    ")\n",
    "\n",
    "test_data = datasets.FashionMNIST(\n",
    "    root=\"data\",\n",
    "    train=False,\n",
    "    download=True,\n",
    "    transform=ToTensor()\n",
    ")"
   ]
  },
  {
   "cell_type": "code",
   "execution_count": 31,
   "metadata": {},
   "outputs": [
    {
     "name": "stdout",
     "output_type": "stream",
     "text": [
      "Shape of X [N, C, H, W]: torch.Size([64, 1, 28, 28])\n",
      "Shape of y: torch.Size([64]) torch.int64\n"
     ]
    }
   ],
   "source": [
    "batch_size = 64\n",
    "\n",
    "train_dataloader = DataLoader(training_data, batch_size=batch_size, shuffle=True)\n",
    "test_dataloader = DataLoader(test_data, batch_size=batch_size)\n",
    "\n",
    "for X, y in test_dataloader:\n",
    "    print(f\"Shape of X [N, C, H, W]: {X.shape}\")\n",
    "    print(f\"Shape of y: {y.shape} {y.dtype}\")\n",
    "    break"
   ]
  },
  {
   "cell_type": "code",
   "execution_count": 32,
   "metadata": {},
   "outputs": [
    {
     "name": "stdout",
     "output_type": "stream",
     "text": [
      "NeuralNetwork(\n",
      "  (flatten): Flatten(start_dim=1, end_dim=-1)\n",
      "  (linear_relu_stack): Sequential(\n",
      "    (0): Linear(in_features=784, out_features=512, bias=True)\n",
      "    (1): ReLU()\n",
      "    (2): Linear(in_features=512, out_features=512, bias=True)\n",
      "    (3): ReLU()\n",
      "    (4): Linear(in_features=512, out_features=10, bias=True)\n",
      "  )\n",
      ")\n"
     ]
    }
   ],
   "source": [
    "device = \"cuda\" if torch.cuda.is_available() else \"cpu\"\n",
    "\n",
    "class NeuralNetwork(nn.Module):\n",
    "    def __init__(self):\n",
    "        super().__init__()\n",
    "        self.flatten = nn.Flatten()\n",
    "        self.linear_relu_stack = nn.Sequential(\n",
    "            nn.Linear(28*28, 512),\n",
    "            nn.ReLU(),\n",
    "            nn.Linear(512, 512),\n",
    "            nn.ReLU(),\n",
    "            nn.Linear(512, 10)\n",
    "        )\n",
    "    def forward(self, x):\n",
    "        x = self.flatten(x)\n",
    "        return self.linear_relu_stack(x)\n",
    "    \n",
    "model = NeuralNetwork().to(device)\n",
    "print(model)"
   ]
  },
  {
   "cell_type": "code",
   "execution_count": 33,
   "metadata": {},
   "outputs": [],
   "source": [
    "loss_fn = nn.CrossEntropyLoss()\n",
    "optimizer = torch.optim.SGD(model.parameters(), lr=1e-3)"
   ]
  },
  {
   "cell_type": "code",
   "execution_count": 34,
   "metadata": {},
   "outputs": [],
   "source": [
    "def train(dataloader, model, loss_fn, optimizer):\n",
    "    size = len(dataloader.dataset)\n",
    "    model.train()\n",
    "    for batch, (X, y) in enumerate(dataloader):\n",
    "        X, y = X.to(device), y.to(device)\n",
    "\n",
    "        pred = model(X)\n",
    "        loss = loss_fn(pred, y)\n",
    "\n",
    "        optimizer.zero_grad()\n",
    "        loss.backward()\n",
    "        optimizer.step()\n",
    "\n",
    "        if batch % 100 == 0:\n",
    "            loss, current = loss.item(), (batch + 1) * len(X)\n",
    "            print(f\"loss: {loss} [{current} / {size}]\")\n",
    "\n",
    "def test(dataloader, model, loss_fn):\n",
    "    size = len(dataloader.dataset)\n",
    "    num_batches = len(dataloader)\n",
    "    model.eval()\n",
    "    test_loss, correct = 0, 0\n",
    "    with torch.no_grad():\n",
    "        for X, y in dataloader:\n",
    "            X, y = X.to(device), y.to(device)\n",
    "            pred = model(X)\n",
    "            test_loss += loss_fn(pred, y).item()\n",
    "            correct += (pred.argmax(dim=1) == y).float().sum().item()\n",
    "    test_loss /= num_batches\n",
    "    correct /= size\n",
    "    print(f\"Test Error: \\n Accuracy: {(100*correct):>0.1f}%, Avg loss: {test_loss:>8f} \\n\")\n",
    "\n"
   ]
  },
  {
   "cell_type": "code",
   "execution_count": 35,
   "metadata": {},
   "outputs": [
    {
     "name": "stdout",
     "output_type": "stream",
     "text": [
      "Epoch 1\n",
      "---------\n",
      "loss: 2.3071253299713135 [64 / 60000]\n",
      "loss: 2.3010106086730957 [6464 / 60000]\n",
      "loss: 2.279904365539551 [12864 / 60000]\n",
      "loss: 2.2726480960845947 [19264 / 60000]\n",
      "loss: 2.2596771717071533 [25664 / 60000]\n",
      "loss: 2.2193024158477783 [32064 / 60000]\n",
      "loss: 2.227667808532715 [38464 / 60000]\n",
      "loss: 2.2089638710021973 [44864 / 60000]\n",
      "loss: 2.1915502548217773 [51264 / 60000]\n",
      "loss: 2.1541576385498047 [57664 / 60000]\n",
      "Test Error: \n",
      " Accuracy: 51.5%, Avg loss: 2.157662 \n",
      "\n",
      "Epoch 2\n",
      "---------\n",
      "loss: 2.135371208190918 [64 / 60000]\n",
      "loss: 2.150287389755249 [6464 / 60000]\n",
      "loss: 2.0917327404022217 [12864 / 60000]\n",
      "loss: 2.051964521408081 [19264 / 60000]\n",
      "loss: 2.044734477996826 [25664 / 60000]\n",
      "loss: 2.004573345184326 [32064 / 60000]\n",
      "loss: 2.024864912033081 [38464 / 60000]\n",
      "loss: 1.9254121780395508 [44864 / 60000]\n",
      "loss: 1.9395885467529297 [51264 / 60000]\n",
      "loss: 1.8747938871383667 [57664 / 60000]\n",
      "Test Error: \n",
      " Accuracy: 58.7%, Avg loss: 1.875840 \n",
      "\n",
      "Epoch 3\n",
      "---------\n",
      "loss: 1.8518821001052856 [64 / 60000]\n",
      "loss: 1.8230713605880737 [6464 / 60000]\n",
      "loss: 1.7503924369812012 [12864 / 60000]\n",
      "loss: 1.7222323417663574 [19264 / 60000]\n",
      "loss: 1.6843029260635376 [25664 / 60000]\n",
      "loss: 1.6815128326416016 [32064 / 60000]\n",
      "loss: 1.578354001045227 [38464 / 60000]\n",
      "loss: 1.6163771152496338 [44864 / 60000]\n",
      "loss: 1.470880150794983 [51264 / 60000]\n",
      "loss: 1.5611724853515625 [57664 / 60000]\n",
      "Test Error: \n",
      " Accuracy: 60.2%, Avg loss: 1.507735 \n",
      "\n",
      "Epoch 4\n",
      "---------\n",
      "loss: 1.4447699785232544 [64 / 60000]\n",
      "loss: 1.369957685470581 [6464 / 60000]\n",
      "loss: 1.4576361179351807 [12864 / 60000]\n",
      "loss: 1.402223825454712 [19264 / 60000]\n",
      "loss: 1.2749059200286865 [25664 / 60000]\n",
      "loss: 1.4813785552978516 [32064 / 60000]\n",
      "loss: 1.3572005033493042 [38464 / 60000]\n",
      "loss: 1.3366833925247192 [44864 / 60000]\n",
      "loss: 1.3444015979766846 [51264 / 60000]\n",
      "loss: 1.2104016542434692 [57664 / 60000]\n",
      "Test Error: \n",
      " Accuracy: 62.9%, Avg loss: 1.252414 \n",
      "\n",
      "Epoch 5\n",
      "---------\n",
      "loss: 1.3080322742462158 [64 / 60000]\n",
      "loss: 1.1356171369552612 [6464 / 60000]\n",
      "loss: 1.261756181716919 [12864 / 60000]\n",
      "loss: 1.1903016567230225 [19264 / 60000]\n",
      "loss: 1.1813571453094482 [25664 / 60000]\n",
      "loss: 1.1973358392715454 [32064 / 60000]\n",
      "loss: 1.210642695426941 [38464 / 60000]\n",
      "loss: 1.1296306848526 [44864 / 60000]\n",
      "loss: 0.9202403426170349 [51264 / 60000]\n",
      "loss: 1.159772276878357 [57664 / 60000]\n",
      "Test Error: \n",
      " Accuracy: 63.6%, Avg loss: 1.092592 \n",
      "\n",
      "Done!\n"
     ]
    }
   ],
   "source": [
    "epochs = 5\n",
    "for t in range(epochs):\n",
    "    print(f\"Epoch {t+1}\\n---------\")\n",
    "    train(train_dataloader, model, loss_fn, optimizer)\n",
    "    test(test_dataloader, model, loss_fn)\n",
    "print(\"Done!\")"
   ]
  },
  {
   "cell_type": "code",
   "execution_count": 37,
   "metadata": {},
   "outputs": [
    {
     "name": "stdout",
     "output_type": "stream",
     "text": [
      "saved\n"
     ]
    }
   ],
   "source": [
    "torch.save(model.state_dict(), \"models/start.pth\")\n",
    "print(\"saved\")"
   ]
  },
  {
   "cell_type": "code",
   "execution_count": 40,
   "metadata": {},
   "outputs": [
    {
     "data": {
      "text/plain": [
       "<All keys matched successfully>"
      ]
     },
     "execution_count": 40,
     "metadata": {},
     "output_type": "execute_result"
    }
   ],
   "source": [
    "model = NeuralNetwork().to(device)\n",
    "model.load_state_dict(torch.load(\"models/start.pth\"))"
   ]
  },
  {
   "cell_type": "code",
   "execution_count": 41,
   "metadata": {},
   "outputs": [
    {
     "name": "stdout",
     "output_type": "stream",
     "text": [
      "Predicted: \"Ankle boot\", Actual: \"Ankle boot\"\n"
     ]
    }
   ],
   "source": [
    "classes = [\n",
    "    \"T-shirt/top\",\n",
    "    \"Trouser\",\n",
    "    \"Pullover\",\n",
    "    \"Dress\",\n",
    "    \"Coat\",\n",
    "    \"Sandal\",\n",
    "    \"Shirt\",\n",
    "    \"Sneaker\",\n",
    "    \"Bag\",\n",
    "    \"Ankle boot\",\n",
    "]\n",
    "\n",
    "model.eval()\n",
    "x, y = test_data[0][0], test_data[0][1]\n",
    "with torch.no_grad():\n",
    "    x = x.to(device)\n",
    "    pred = model(x)\n",
    "    predicted, actual = classes[pred[0].argmax(0)], classes[y]\n",
    "    print(f'Predicted: \"{predicted}\", Actual: \"{actual}\"')"
   ]
  }
 ],
 "metadata": {
  "kernelspec": {
   "display_name": "base",
   "language": "python",
   "name": "python3"
  },
  "language_info": {
   "codemirror_mode": {
    "name": "ipython",
    "version": 3
   },
   "file_extension": ".py",
   "mimetype": "text/x-python",
   "name": "python",
   "nbconvert_exporter": "python",
   "pygments_lexer": "ipython3",
   "version": "3.10.14"
  }
 },
 "nbformat": 4,
 "nbformat_minor": 2
}
