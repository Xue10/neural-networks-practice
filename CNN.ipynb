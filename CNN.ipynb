{
 "cells": [
  {
   "cell_type": "code",
   "execution_count": 14,
   "metadata": {},
   "outputs": [
    {
     "name": "stderr",
     "output_type": "stream",
     "text": [
      "Generating train split: 100%|██████████| 50000/50000 [00:00<00:00, 121059.61 examples/s]\n",
      "Generating test split: 100%|██████████| 10000/10000 [00:00<00:00, 121866.15 examples/s]\n"
     ]
    }
   ],
   "source": [
    "from datasets import load_dataset\n",
    "\n",
    "ds = load_dataset(\"uoft-cs/cifar10\", download_mode='reuse_cache_if_exists')"
   ]
  },
  {
   "cell_type": "code",
   "execution_count": 15,
   "metadata": {},
   "outputs": [],
   "source": [
    "%matplotlib inline\n",
    "import numpy as np\n",
    "import torch\n",
    "import torch.nn as nn\n",
    "from torch.nn import functional as F\n",
    "import matplotlib.pyplot as plt"
   ]
  },
  {
   "cell_type": "code",
   "execution_count": 16,
   "metadata": {},
   "outputs": [],
   "source": [
    "device = 'cuda' if torch.cuda.is_available() else 'cpu'"
   ]
  },
  {
   "cell_type": "code",
   "execution_count": 4,
   "metadata": {},
   "outputs": [
    {
     "name": "stdout",
     "output_type": "stream",
     "text": [
      "DatasetDict({\n",
      "    train: Dataset({\n",
      "        features: ['img', 'label'],\n",
      "        num_rows: 50000\n",
      "    })\n",
      "    test: Dataset({\n",
      "        features: ['img', 'label'],\n",
      "        num_rows: 10000\n",
      "    })\n",
      "})\n"
     ]
    }
   ],
   "source": [
    "print(ds)"
   ]
  },
  {
   "cell_type": "code",
   "execution_count": 17,
   "metadata": {},
   "outputs": [],
   "source": [
    "X_train = ds['train']['img']\n",
    "Y_train = ds['train']['label']\n",
    "X_test = ds['test']['img']\n",
    "Y_test = ds['test']['label']"
   ]
  },
  {
   "cell_type": "code",
   "execution_count": 6,
   "metadata": {},
   "outputs": [
    {
     "data": {
      "text/plain": [
       "list"
      ]
     },
     "execution_count": 6,
     "metadata": {},
     "output_type": "execute_result"
    }
   ],
   "source": [
    "type(Y_test)"
   ]
  },
  {
   "cell_type": "code",
   "execution_count": 19,
   "metadata": {},
   "outputs": [
    {
     "data": {
      "text/plain": [
       "PIL.PngImagePlugin.PngImageFile"
      ]
     },
     "execution_count": 19,
     "metadata": {},
     "output_type": "execute_result"
    }
   ],
   "source": [
    "type(X_train[0])"
   ]
  },
  {
   "cell_type": "code",
   "execution_count": 20,
   "metadata": {},
   "outputs": [
    {
     "data": {
      "text/plain": [
       "array([[[178, 176, 189],\n",
       "        [178, 176, 189],\n",
       "        [178, 176, 189],\n",
       "        ...,\n",
       "        [170, 168, 180],\n",
       "        [168, 166, 177],\n",
       "        [165, 163, 174]],\n",
       "\n",
       "       [[180, 178, 191],\n",
       "        [179, 177, 190],\n",
       "        [180, 178, 191],\n",
       "        ...,\n",
       "        [173, 171, 182],\n",
       "        [171, 169, 180],\n",
       "        [168, 166, 177]],\n",
       "\n",
       "       [[177, 175, 188],\n",
       "        [177, 175, 188],\n",
       "        [178, 176, 189],\n",
       "        ...,\n",
       "        [171, 169, 180],\n",
       "        [169, 167, 178],\n",
       "        [167, 165, 176]],\n",
       "\n",
       "       ...,\n",
       "\n",
       "       [[112, 107, 107],\n",
       "        [113, 109, 108],\n",
       "        [114, 110, 110],\n",
       "        ...,\n",
       "        [100,  97,  94],\n",
       "        [ 98,  94,  93],\n",
       "        [101,  95,  95]],\n",
       "\n",
       "       [[112, 102, 101],\n",
       "        [112, 103, 102],\n",
       "        [113, 103, 103],\n",
       "        ...,\n",
       "        [102,  95,  93],\n",
       "        [102,  93,  91],\n",
       "        [102,  92,  91]],\n",
       "\n",
       "       [[103,  96,  92],\n",
       "        [100,  93,  90],\n",
       "        [103,  95,  94],\n",
       "        ...,\n",
       "        [ 92,  84,  80],\n",
       "        [ 93,  86,  80],\n",
       "        [ 91,  84,  77]]], dtype=uint8)"
      ]
     },
     "execution_count": 20,
     "metadata": {},
     "output_type": "execute_result"
    }
   ],
   "source": [
    "i = np.array(X_train[0])\n",
    "i"
   ]
  },
  {
   "cell_type": "code",
   "execution_count": 13,
   "metadata": {},
   "outputs": [
    {
     "name": "stdout",
     "output_type": "stream",
     "text": [
      "torch.Size([50000, 3, 32, 32])\n"
     ]
    }
   ],
   "source": [
    "print(X_train.shape)"
   ]
  },
  {
   "cell_type": "code",
   "execution_count": 21,
   "metadata": {},
   "outputs": [],
   "source": [
    "# shape (B, C, W, H) -> (B, H, W, C)\n",
    "X_train = torch.from_numpy(np.array(X_train)/255.0).transpose(1, 3).float().to(device)\n",
    "Y_train = torch.tensor(Y_train).to(device)\n",
    "X_test = torch.from_numpy(np.array(X_test)/255.0).transpose(1, 3).float().to(device)\n",
    "Y_test = torch.tensor(Y_test).to(device)"
   ]
  },
  {
   "cell_type": "code",
   "execution_count": 22,
   "metadata": {},
   "outputs": [],
   "source": [
    "class CNN(nn.Module):\n",
    "    \n",
    "    def __init__(self, num_classes=10):\n",
    "        super().__init__()\n",
    "        # in shape 3*32*32\n",
    "        self.l1 = nn.Sequential(\n",
    "            nn.Conv2d(in_channels=3, out_channels=32, kernel_size=4, stride=1), # 32*29*29\n",
    "            nn.ReLU(),\n",
    "            nn.MaxPool2d(kernel_size=2), #32*14*14\n",
    "            nn.BatchNorm2d(32)\n",
    "        )\n",
    "        # in shape 32*14*14\n",
    "        self.l2 = nn.Sequential(\n",
    "            nn.Conv2d(in_channels=32, out_channels=32, kernel_size=4, stride=1), #32*11*11\n",
    "            nn.ReLU(),\n",
    "            nn.MaxPool2d(kernel_size=2), #32*5*5\n",
    "            nn.BatchNorm2d(32),\n",
    "            nn.Flatten()\n",
    "        )\n",
    "        # in shape 32*5*5\n",
    "        self.l3 = nn.Sequential(\n",
    "            nn.Linear(in_features=32*5*5, out_features=128),\n",
    "            nn.ReLU(),\n",
    "            nn.Dropout(0.3),\n",
    "            nn.Linear(128, num_classes)\n",
    "        )\n",
    "    def forward(self, x):\n",
    "        x = self.l1(x)\n",
    "        x = self.l2(x)\n",
    "        x = self.l3(x)\n",
    "        return x\n",
    "model = CNN().to(device)\n"
   ]
  },
  {
   "cell_type": "code",
   "execution_count": 23,
   "metadata": {},
   "outputs": [
    {
     "data": {
      "text/plain": [
       "[<matplotlib.lines.Line2D at 0x16c5b3b1e70>]"
      ]
     },
     "execution_count": 23,
     "metadata": {},
     "output_type": "execute_result"
    },
    {
     "data": {
      "image/png": "[encoded data removed]",
      "text/plain": [
       "<Figure size 640x480 with 1 Axes>"
      ]
     },
     "metadata": {},
     "output_type": "display_data"
    }
   ],
   "source": [
    "B = 128\n",
    "epoch = 10\n",
    "loss_fn = nn.CrossEntropyLoss()\n",
    "optimizer = torch.optim.SGD(model.parameters(), lr=0.1)\n",
    "losses, accs = [], []\n",
    "for e in range(epoch):\n",
    "    for i in range(X_train.shape[0] // B):\n",
    "        samp = np.random.randint(0, X_train.shape[0], size=B)\n",
    "        X = X_train[samp]\n",
    "        Y = Y_train[samp]\n",
    "        optimizer.zero_grad()\n",
    "        out = model(X)\n",
    "        acc = (torch.argmax(out, dim=1) == Y).float().mean().cpu()\n",
    "        accs.append(acc)\n",
    "        loss = loss_fn(out, Y)\n",
    "        loss.backward()\n",
    "        optimizer.step()\n",
    "        losses.append(loss.item())\n",
    "plt.ylim(0, 1)\n",
    "plt.plot(losses)\n",
    "plt.plot(accs)"
   ]
  },
  {
   "cell_type": "code",
   "execution_count": 24,
   "metadata": {},
   "outputs": [
    {
     "name": "stdout",
     "output_type": "stream",
     "text": [
      "tensor(0.6882, device='cuda:0')\n"
     ]
    }
   ],
   "source": [
    "with torch.no_grad():\n",
    "    Y_pred = model(X_test)\n",
    "    acc = (torch.argmax(Y_pred, dim=1) == Y_test).float().mean()\n",
    "    print(acc)"
   ]
  }
 ],
 "metadata": {
  "kernelspec": {
   "display_name": "base",
   "language": "python",
   "name": "python3"
  },
  "language_info": {
   "codemirror_mode": {
    "name": "ipython",
    "version": 3
   },
   "file_extension": ".py",
   "mimetype": "text/x-python",
   "name": "python",
   "nbconvert_exporter": "python",
   "pygments_lexer": "ipython3",
   "version": "3.10.14"
  }
 },
 "nbformat": 4,
 "nbformat_minor": 2
}
