{
 "cells": [
  {
   "cell_type": "code",
   "execution_count": 1,
   "metadata": {},
   "outputs": [
    {
     "name": "stderr",
     "output_type": "stream",
     "text": [
      "c:\\Users\\X\\Anaconda3\\envs\\llama_factory\\lib\\site-packages\\tqdm\\auto.py:21: TqdmWarning: IProgress not found. Please update jupyter and ipywidgets. See https://ipywidgets.readthedocs.io/en/stable/user_install.html\n",
      "  from .autonotebook import tqdm as notebook_tqdm\n"
     ]
    }
   ],
   "source": [
    "import torch\n",
    "from torch import nn\n",
    "from torch.utils.data import DataLoader\n",
    "from torchvision import datasets, transforms"
   ]
  },
  {
   "cell_type": "code",
   "execution_count": 2,
   "metadata": {},
   "outputs": [],
   "source": [
    "batch_size = 100\n",
    "training_data = datasets.FashionMNIST(root='./fashion_mnist', train=True, download=True, transform=transforms.ToTensor())\n",
    "test_data = datasets.FashionMNIST(root='./fashion_mnist', train=False, download=True, transform=transforms.ToTensor())\n",
    "\n",
    "train_dataloader = DataLoader(training_data, batch_size=batch_size)\n",
    "test_dataloader = DataLoader(test_data, batch_size=batch_size)"
   ]
  },
  {
   "cell_type": "code",
   "execution_count": 3,
   "metadata": {},
   "outputs": [],
   "source": [
    "sequence_len = 28\n",
    "input_len = 28\n",
    "hidden_size = 128\n",
    "num_layers = 2\n",
    "num_classes =10\n",
    "num_epochs = 2\n",
    "learning_rate = 0.01\n",
    "\n",
    "device = 'cuda' if torch.cuda.is_available() else 'cpu'"
   ]
  },
  {
   "cell_type": "code",
   "execution_count": 4,
   "metadata": {},
   "outputs": [],
   "source": [
    "class LSTM(nn.Module):\n",
    "    def __init__(self, input_len, hidden_size, num_class, num_layers, device):\n",
    "        super().__init__()\n",
    "        self.hidden_size = hidden_size\n",
    "        self.num_layers = num_layers\n",
    "        self.lstm = nn.LSTM(input_len, hidden_size, num_layers, batch_first=True)\n",
    "        self.output = nn.Linear(hidden_size, num_class)\n",
    "        self.device = device\n",
    "    def forward(self, x):\n",
    "        hidden_states = torch.zeros(self.num_layers, x.size(0), self.hidden_size).to(self.device)\n",
    "        cell_states = torch.zeros(self.num_layers, x.size(0), self.hidden_size).to(self.device)\n",
    "        out, _ = self.lstm(x, (hidden_states, cell_states))\n",
    "        out = self.output(out[:, -1, :])\n",
    "        return out\n"
   ]
  },
  {
   "cell_type": "code",
   "execution_count": 5,
   "metadata": {},
   "outputs": [
    {
     "name": "stdout",
     "output_type": "stream",
     "text": [
      "LSTM(\n",
      "  (lstm): LSTM(28, 128, num_layers=2, batch_first=True)\n",
      "  (output): Linear(in_features=128, out_features=10, bias=True)\n",
      ")\n"
     ]
    },
    {
     "data": {
      "text/plain": [
       "LSTM(\n",
       "  (lstm): LSTM(28, 128, num_layers=2, batch_first=True)\n",
       "  (output): Linear(in_features=128, out_features=10, bias=True)\n",
       ")"
      ]
     },
     "execution_count": 5,
     "metadata": {},
     "output_type": "execute_result"
    }
   ],
   "source": [
    "model = LSTM(input_len, hidden_size, num_classes, num_layers, device)\n",
    "print(model)\n",
    "model.to(device)"
   ]
  },
  {
   "cell_type": "code",
   "execution_count": 6,
   "metadata": {},
   "outputs": [],
   "source": [
    "loss_fn = nn.CrossEntropyLoss()\n",
    "optimizer = torch.optim.Adam(model.parameters(), lr=learning_rate)"
   ]
  },
  {
   "cell_type": "code",
   "execution_count": 7,
   "metadata": {},
   "outputs": [],
   "source": [
    "def train(num_epochs, model, train_dataloader, loss_fn, device):\n",
    "    total_steps = len(train_dataloader)\n",
    "\n",
    "    for epoch in range(num_epochs):\n",
    "        for step, (images, labels) in enumerate(train_dataloader):\n",
    "            images = images.reshape(-1, sequence_len, input_len)\n",
    "            images = images.to(device)\n",
    "            labels = labels.to(device)\n",
    "            output = model(images)\n",
    "            loss = loss_fn(output, labels)\n",
    "\n",
    "            optimizer.zero_grad()\n",
    "            loss.backward()\n",
    "            optimizer.step()\n",
    "\n",
    "            if (step+1) % 100 == 0:\n",
    "                print(f'{epoch=}, steps={step+1} / {total_steps=}, {loss=:.4f}')"
   ]
  },
  {
   "cell_type": "code",
   "execution_count": 8,
   "metadata": {},
   "outputs": [
    {
     "name": "stdout",
     "output_type": "stream",
     "text": [
      "epoch=0, steps=100 / total_steps=600, loss=1.0140\n",
      "epoch=0, steps=200 / total_steps=600, loss=0.6746\n",
      "epoch=0, steps=300 / total_steps=600, loss=0.5460\n",
      "epoch=0, steps=400 / total_steps=600, loss=0.5031\n",
      "epoch=0, steps=500 / total_steps=600, loss=0.5928\n",
      "epoch=0, steps=600 / total_steps=600, loss=0.3812\n",
      "epoch=1, steps=100 / total_steps=600, loss=0.4537\n",
      "epoch=1, steps=200 / total_steps=600, loss=0.3349\n",
      "epoch=1, steps=300 / total_steps=600, loss=0.3734\n",
      "epoch=1, steps=400 / total_steps=600, loss=0.3632\n",
      "epoch=1, steps=500 / total_steps=600, loss=0.5282\n",
      "epoch=1, steps=600 / total_steps=600, loss=0.2743\n"
     ]
    }
   ],
   "source": [
    "train(num_epochs, model, train_dataloader, loss_fn, device)"
   ]
  },
  {
   "cell_type": "code",
   "execution_count": 9,
   "metadata": {},
   "outputs": [
    {
     "name": "stdout",
     "output_type": "stream",
     "text": [
      "final_loss=0.3772645643353462 acc=0.8601\n"
     ]
    }
   ],
   "source": [
    "# eval\n",
    "with torch.no_grad():\n",
    "    losses = []\n",
    "    correct = 0\n",
    "    for x, y in test_dataloader:\n",
    "        x = x.reshape(-1, 28, 28)\n",
    "        x = x.to(device)\n",
    "        y = y.to(device)\n",
    "        y_hat = model(x)\n",
    "        loss = loss_fn(y_hat, y)\n",
    "        losses.append(loss.item())\n",
    "        correct += (y_hat.argmax(1) == y).sum().item()\n",
    "    batches = len(test_dataloader)\n",
    "    final_loss = sum(losses) / batches\n",
    "    acc = correct / (batch_size * batches)\n",
    "    print(f'{final_loss=} {acc=}')"
   ]
  }
 ],
 "metadata": {
  "kernelspec": {
   "display_name": "llama_factory",
   "language": "python",
   "name": "python3"
  },
  "language_info": {
   "codemirror_mode": {
    "name": "ipython",
    "version": 3
   },
   "file_extension": ".py",
   "mimetype": "text/x-python",
   "name": "python",
   "nbconvert_exporter": "python",
   "pygments_lexer": "ipython3",
   "version": "3.10.14"
  }
 },
 "nbformat": 4,
 "nbformat_minor": 2
}
